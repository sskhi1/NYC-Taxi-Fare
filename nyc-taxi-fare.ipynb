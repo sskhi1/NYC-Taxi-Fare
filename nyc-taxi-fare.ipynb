{
 "cells": [
  {
   "cell_type": "code",
   "execution_count": 1,
   "id": "5a1a7776",
   "metadata": {
    "_cell_guid": "b1076dfc-b9ad-4769-8c92-a6c4dae69d19",
    "_uuid": "8f2839f25d086af736a60e9eeb907d3b93b6e0e5",
    "execution": {
     "iopub.execute_input": "2024-05-26T10:59:22.629328Z",
     "iopub.status.busy": "2024-05-26T10:59:22.628728Z",
     "iopub.status.idle": "2024-05-26T10:59:23.424413Z",
     "shell.execute_reply": "2024-05-26T10:59:23.422846Z"
    },
    "papermill": {
     "duration": 0.815448,
     "end_time": "2024-05-26T10:59:23.427569",
     "exception": false,
     "start_time": "2024-05-26T10:59:22.612121",
     "status": "completed"
    },
    "tags": []
   },
   "outputs": [
    {
     "name": "stdout",
     "output_type": "stream",
     "text": [
      "/kaggle/input/new-york-city-taxi-fare-prediction/sample_submission.csv\n",
      "/kaggle/input/new-york-city-taxi-fare-prediction/GCP-Coupons-Instructions.rtf\n",
      "/kaggle/input/new-york-city-taxi-fare-prediction/train.csv\n",
      "/kaggle/input/new-york-city-taxi-fare-prediction/test.csv\n"
     ]
    }
   ],
   "source": [
    "# This Python 3 environment comes with many helpful analytics libraries installed\n",
    "# It is defined by the kaggle/python Docker image: https://github.com/kaggle/docker-python\n",
    "# For example, here's several helpful packages to load\n",
    "\n",
    "import numpy as np # linear algebra\n",
    "import pandas as pd # data processing, CSV file I/O (e.g. pd.read_csv)\n",
    "\n",
    "# Input data files are available in the read-only \"../input/\" directory\n",
    "# For example, running this (by clicking run or pressing Shift+Enter) will list all files under the input directory\n",
    "\n",
    "import os\n",
    "for dirname, _, filenames in os.walk('/kaggle/input'):\n",
    "    for filename in filenames:\n",
    "        print(os.path.join(dirname, filename))\n",
    "\n",
    "# You can write up to 20GB to the current directory (/kaggle/working/) that gets preserved as output when you create a version using \"Save & Run All\" \n",
    "# You can also write temporary files to /kaggle/temp/, but they won't be saved outside of the current session"
   ]
  },
  {
   "cell_type": "markdown",
   "id": "db646749",
   "metadata": {
    "papermill": {
     "duration": 0.015438,
     "end_time": "2024-05-26T10:59:23.458868",
     "exception": false,
     "start_time": "2024-05-26T10:59:23.443430",
     "status": "completed"
    },
    "tags": []
   },
   "source": [
    "პირველ რიგში, წავიკითხოთ მონაცემები და ვნახოთ პირველი 10 რიგი დაახლოებითი წარმოდგენა რომ შეგვექმნას რა ტიპის ცხრილს ვეხებით:"
   ]
  },
  {
   "cell_type": "code",
   "execution_count": 2,
   "id": "fd609011",
   "metadata": {
    "execution": {
     "iopub.execute_input": "2024-05-26T10:59:23.490004Z",
     "iopub.status.busy": "2024-05-26T10:59:23.489184Z",
     "iopub.status.idle": "2024-05-26T10:59:56.261907Z",
     "shell.execute_reply": "2024-05-26T10:59:56.260747Z"
    },
    "papermill": {
     "duration": 32.804962,
     "end_time": "2024-05-26T10:59:56.278275",
     "exception": false,
     "start_time": "2024-05-26T10:59:23.473313",
     "status": "completed"
    },
    "tags": []
   },
   "outputs": [
    {
     "name": "stdout",
     "output_type": "stream",
     "text": [
      "Number of rows in train_data: 10000000\n"
     ]
    }
   ],
   "source": [
    "pd.options.display.max_rows = 20\n",
    "train_data = pd.read_csv('/kaggle/input/new-york-city-taxi-fare-prediction/train.csv', nrows = 10_000_000)\n",
    "num_rows = train_data.shape[0]\n",
    "\n",
    "print(\"Number of rows in train_data:\", num_rows)"
   ]
  },
  {
   "cell_type": "code",
   "execution_count": 3,
   "id": "6ddcf9c1",
   "metadata": {
    "execution": {
     "iopub.execute_input": "2024-05-26T10:59:56.309128Z",
     "iopub.status.busy": "2024-05-26T10:59:56.308381Z",
     "iopub.status.idle": "2024-05-26T10:59:56.334318Z",
     "shell.execute_reply": "2024-05-26T10:59:56.333409Z"
    },
    "papermill": {
     "duration": 0.043864,
     "end_time": "2024-05-26T10:59:56.336576",
     "exception": false,
     "start_time": "2024-05-26T10:59:56.292712",
     "status": "completed"
    },
    "tags": []
   },
   "outputs": [
    {
     "data": {
      "text/html": [
       "<div>\n",
       "<style scoped>\n",
       "    .dataframe tbody tr th:only-of-type {\n",
       "        vertical-align: middle;\n",
       "    }\n",
       "\n",
       "    .dataframe tbody tr th {\n",
       "        vertical-align: top;\n",
       "    }\n",
       "\n",
       "    .dataframe thead th {\n",
       "        text-align: right;\n",
       "    }\n",
       "</style>\n",
       "<table border=\"1\" class=\"dataframe\">\n",
       "  <thead>\n",
       "    <tr style=\"text-align: right;\">\n",
       "      <th></th>\n",
       "      <th>key</th>\n",
       "      <th>fare_amount</th>\n",
       "      <th>pickup_datetime</th>\n",
       "      <th>pickup_longitude</th>\n",
       "      <th>pickup_latitude</th>\n",
       "      <th>dropoff_longitude</th>\n",
       "      <th>dropoff_latitude</th>\n",
       "      <th>passenger_count</th>\n",
       "    </tr>\n",
       "  </thead>\n",
       "  <tbody>\n",
       "    <tr>\n",
       "      <th>0</th>\n",
       "      <td>2009-06-15 17:26:21.0000001</td>\n",
       "      <td>4.5</td>\n",
       "      <td>2009-06-15 17:26:21 UTC</td>\n",
       "      <td>-73.844311</td>\n",
       "      <td>40.721319</td>\n",
       "      <td>-73.841610</td>\n",
       "      <td>40.712278</td>\n",
       "      <td>1</td>\n",
       "    </tr>\n",
       "    <tr>\n",
       "      <th>1</th>\n",
       "      <td>2010-01-05 16:52:16.0000002</td>\n",
       "      <td>16.9</td>\n",
       "      <td>2010-01-05 16:52:16 UTC</td>\n",
       "      <td>-74.016048</td>\n",
       "      <td>40.711303</td>\n",
       "      <td>-73.979268</td>\n",
       "      <td>40.782004</td>\n",
       "      <td>1</td>\n",
       "    </tr>\n",
       "    <tr>\n",
       "      <th>2</th>\n",
       "      <td>2011-08-18 00:35:00.00000049</td>\n",
       "      <td>5.7</td>\n",
       "      <td>2011-08-18 00:35:00 UTC</td>\n",
       "      <td>-73.982738</td>\n",
       "      <td>40.761270</td>\n",
       "      <td>-73.991242</td>\n",
       "      <td>40.750562</td>\n",
       "      <td>2</td>\n",
       "    </tr>\n",
       "    <tr>\n",
       "      <th>3</th>\n",
       "      <td>2012-04-21 04:30:42.0000001</td>\n",
       "      <td>7.7</td>\n",
       "      <td>2012-04-21 04:30:42 UTC</td>\n",
       "      <td>-73.987130</td>\n",
       "      <td>40.733143</td>\n",
       "      <td>-73.991567</td>\n",
       "      <td>40.758092</td>\n",
       "      <td>1</td>\n",
       "    </tr>\n",
       "    <tr>\n",
       "      <th>4</th>\n",
       "      <td>2010-03-09 07:51:00.000000135</td>\n",
       "      <td>5.3</td>\n",
       "      <td>2010-03-09 07:51:00 UTC</td>\n",
       "      <td>-73.968095</td>\n",
       "      <td>40.768008</td>\n",
       "      <td>-73.956655</td>\n",
       "      <td>40.783762</td>\n",
       "      <td>1</td>\n",
       "    </tr>\n",
       "    <tr>\n",
       "      <th>5</th>\n",
       "      <td>2011-01-06 09:50:45.0000002</td>\n",
       "      <td>12.1</td>\n",
       "      <td>2011-01-06 09:50:45 UTC</td>\n",
       "      <td>-74.000964</td>\n",
       "      <td>40.731630</td>\n",
       "      <td>-73.972892</td>\n",
       "      <td>40.758233</td>\n",
       "      <td>1</td>\n",
       "    </tr>\n",
       "    <tr>\n",
       "      <th>6</th>\n",
       "      <td>2012-11-20 20:35:00.0000001</td>\n",
       "      <td>7.5</td>\n",
       "      <td>2012-11-20 20:35:00 UTC</td>\n",
       "      <td>-73.980002</td>\n",
       "      <td>40.751662</td>\n",
       "      <td>-73.973802</td>\n",
       "      <td>40.764842</td>\n",
       "      <td>1</td>\n",
       "    </tr>\n",
       "    <tr>\n",
       "      <th>7</th>\n",
       "      <td>2012-01-04 17:22:00.00000081</td>\n",
       "      <td>16.5</td>\n",
       "      <td>2012-01-04 17:22:00 UTC</td>\n",
       "      <td>-73.951300</td>\n",
       "      <td>40.774138</td>\n",
       "      <td>-73.990095</td>\n",
       "      <td>40.751048</td>\n",
       "      <td>1</td>\n",
       "    </tr>\n",
       "    <tr>\n",
       "      <th>8</th>\n",
       "      <td>2012-12-03 13:10:00.000000125</td>\n",
       "      <td>9.0</td>\n",
       "      <td>2012-12-03 13:10:00 UTC</td>\n",
       "      <td>-74.006462</td>\n",
       "      <td>40.726713</td>\n",
       "      <td>-73.993078</td>\n",
       "      <td>40.731628</td>\n",
       "      <td>1</td>\n",
       "    </tr>\n",
       "    <tr>\n",
       "      <th>9</th>\n",
       "      <td>2009-09-02 01:11:00.00000083</td>\n",
       "      <td>8.9</td>\n",
       "      <td>2009-09-02 01:11:00 UTC</td>\n",
       "      <td>-73.980658</td>\n",
       "      <td>40.733873</td>\n",
       "      <td>-73.991540</td>\n",
       "      <td>40.758138</td>\n",
       "      <td>2</td>\n",
       "    </tr>\n",
       "  </tbody>\n",
       "</table>\n",
       "</div>"
      ],
      "text/plain": [
       "                             key  fare_amount          pickup_datetime  \\\n",
       "0    2009-06-15 17:26:21.0000001          4.5  2009-06-15 17:26:21 UTC   \n",
       "1    2010-01-05 16:52:16.0000002         16.9  2010-01-05 16:52:16 UTC   \n",
       "2   2011-08-18 00:35:00.00000049          5.7  2011-08-18 00:35:00 UTC   \n",
       "3    2012-04-21 04:30:42.0000001          7.7  2012-04-21 04:30:42 UTC   \n",
       "4  2010-03-09 07:51:00.000000135          5.3  2010-03-09 07:51:00 UTC   \n",
       "5    2011-01-06 09:50:45.0000002         12.1  2011-01-06 09:50:45 UTC   \n",
       "6    2012-11-20 20:35:00.0000001          7.5  2012-11-20 20:35:00 UTC   \n",
       "7   2012-01-04 17:22:00.00000081         16.5  2012-01-04 17:22:00 UTC   \n",
       "8  2012-12-03 13:10:00.000000125          9.0  2012-12-03 13:10:00 UTC   \n",
       "9   2009-09-02 01:11:00.00000083          8.9  2009-09-02 01:11:00 UTC   \n",
       "\n",
       "   pickup_longitude  pickup_latitude  dropoff_longitude  dropoff_latitude  \\\n",
       "0        -73.844311        40.721319         -73.841610         40.712278   \n",
       "1        -74.016048        40.711303         -73.979268         40.782004   \n",
       "2        -73.982738        40.761270         -73.991242         40.750562   \n",
       "3        -73.987130        40.733143         -73.991567         40.758092   \n",
       "4        -73.968095        40.768008         -73.956655         40.783762   \n",
       "5        -74.000964        40.731630         -73.972892         40.758233   \n",
       "6        -73.980002        40.751662         -73.973802         40.764842   \n",
       "7        -73.951300        40.774138         -73.990095         40.751048   \n",
       "8        -74.006462        40.726713         -73.993078         40.731628   \n",
       "9        -73.980658        40.733873         -73.991540         40.758138   \n",
       "\n",
       "   passenger_count  \n",
       "0                1  \n",
       "1                1  \n",
       "2                2  \n",
       "3                1  \n",
       "4                1  \n",
       "5                1  \n",
       "6                1  \n",
       "7                1  \n",
       "8                1  \n",
       "9                2  "
      ]
     },
     "execution_count": 3,
     "metadata": {},
     "output_type": "execute_result"
    }
   ],
   "source": [
    "train_data.head(10)"
   ]
  },
  {
   "cell_type": "code",
   "execution_count": 4,
   "id": "89ab7877",
   "metadata": {
    "execution": {
     "iopub.execute_input": "2024-05-26T10:59:56.368327Z",
     "iopub.status.busy": "2024-05-26T10:59:56.367462Z",
     "iopub.status.idle": "2024-05-26T10:59:56.412219Z",
     "shell.execute_reply": "2024-05-26T10:59:56.411170Z"
    },
    "papermill": {
     "duration": 0.063447,
     "end_time": "2024-05-26T10:59:56.414919",
     "exception": false,
     "start_time": "2024-05-26T10:59:56.351472",
     "status": "completed"
    },
    "tags": []
   },
   "outputs": [
    {
     "data": {
      "text/html": [
       "<div>\n",
       "<style scoped>\n",
       "    .dataframe tbody tr th:only-of-type {\n",
       "        vertical-align: middle;\n",
       "    }\n",
       "\n",
       "    .dataframe tbody tr th {\n",
       "        vertical-align: top;\n",
       "    }\n",
       "\n",
       "    .dataframe thead th {\n",
       "        text-align: right;\n",
       "    }\n",
       "</style>\n",
       "<table border=\"1\" class=\"dataframe\">\n",
       "  <thead>\n",
       "    <tr style=\"text-align: right;\">\n",
       "      <th></th>\n",
       "      <th>key</th>\n",
       "      <th>pickup_datetime</th>\n",
       "      <th>pickup_longitude</th>\n",
       "      <th>pickup_latitude</th>\n",
       "      <th>dropoff_longitude</th>\n",
       "      <th>dropoff_latitude</th>\n",
       "      <th>passenger_count</th>\n",
       "    </tr>\n",
       "  </thead>\n",
       "  <tbody>\n",
       "    <tr>\n",
       "      <th>0</th>\n",
       "      <td>2015-01-27 13:08:24.0000002</td>\n",
       "      <td>2015-01-27 13:08:24 UTC</td>\n",
       "      <td>-73.973320</td>\n",
       "      <td>40.763805</td>\n",
       "      <td>-73.981430</td>\n",
       "      <td>40.743835</td>\n",
       "      <td>1</td>\n",
       "    </tr>\n",
       "    <tr>\n",
       "      <th>1</th>\n",
       "      <td>2015-01-27 13:08:24.0000003</td>\n",
       "      <td>2015-01-27 13:08:24 UTC</td>\n",
       "      <td>-73.986862</td>\n",
       "      <td>40.719383</td>\n",
       "      <td>-73.998886</td>\n",
       "      <td>40.739201</td>\n",
       "      <td>1</td>\n",
       "    </tr>\n",
       "    <tr>\n",
       "      <th>2</th>\n",
       "      <td>2011-10-08 11:53:44.0000002</td>\n",
       "      <td>2011-10-08 11:53:44 UTC</td>\n",
       "      <td>-73.982524</td>\n",
       "      <td>40.751260</td>\n",
       "      <td>-73.979654</td>\n",
       "      <td>40.746139</td>\n",
       "      <td>1</td>\n",
       "    </tr>\n",
       "    <tr>\n",
       "      <th>3</th>\n",
       "      <td>2012-12-01 21:12:12.0000002</td>\n",
       "      <td>2012-12-01 21:12:12 UTC</td>\n",
       "      <td>-73.981160</td>\n",
       "      <td>40.767807</td>\n",
       "      <td>-73.990448</td>\n",
       "      <td>40.751635</td>\n",
       "      <td>1</td>\n",
       "    </tr>\n",
       "    <tr>\n",
       "      <th>4</th>\n",
       "      <td>2012-12-01 21:12:12.0000003</td>\n",
       "      <td>2012-12-01 21:12:12 UTC</td>\n",
       "      <td>-73.966046</td>\n",
       "      <td>40.789775</td>\n",
       "      <td>-73.988565</td>\n",
       "      <td>40.744427</td>\n",
       "      <td>1</td>\n",
       "    </tr>\n",
       "    <tr>\n",
       "      <th>5</th>\n",
       "      <td>2012-12-01 21:12:12.0000005</td>\n",
       "      <td>2012-12-01 21:12:12 UTC</td>\n",
       "      <td>-73.960983</td>\n",
       "      <td>40.765547</td>\n",
       "      <td>-73.979177</td>\n",
       "      <td>40.740053</td>\n",
       "      <td>1</td>\n",
       "    </tr>\n",
       "    <tr>\n",
       "      <th>6</th>\n",
       "      <td>2011-10-06 12:10:20.0000001</td>\n",
       "      <td>2011-10-06 12:10:20 UTC</td>\n",
       "      <td>-73.949013</td>\n",
       "      <td>40.773204</td>\n",
       "      <td>-73.959622</td>\n",
       "      <td>40.770893</td>\n",
       "      <td>1</td>\n",
       "    </tr>\n",
       "    <tr>\n",
       "      <th>7</th>\n",
       "      <td>2011-10-06 12:10:20.0000003</td>\n",
       "      <td>2011-10-06 12:10:20 UTC</td>\n",
       "      <td>-73.777282</td>\n",
       "      <td>40.646636</td>\n",
       "      <td>-73.985083</td>\n",
       "      <td>40.759368</td>\n",
       "      <td>1</td>\n",
       "    </tr>\n",
       "    <tr>\n",
       "      <th>8</th>\n",
       "      <td>2011-10-06 12:10:20.0000002</td>\n",
       "      <td>2011-10-06 12:10:20 UTC</td>\n",
       "      <td>-74.014099</td>\n",
       "      <td>40.709638</td>\n",
       "      <td>-73.995106</td>\n",
       "      <td>40.741365</td>\n",
       "      <td>1</td>\n",
       "    </tr>\n",
       "    <tr>\n",
       "      <th>9</th>\n",
       "      <td>2014-02-18 15:22:20.0000002</td>\n",
       "      <td>2014-02-18 15:22:20 UTC</td>\n",
       "      <td>-73.969582</td>\n",
       "      <td>40.765519</td>\n",
       "      <td>-73.980686</td>\n",
       "      <td>40.770725</td>\n",
       "      <td>1</td>\n",
       "    </tr>\n",
       "  </tbody>\n",
       "</table>\n",
       "</div>"
      ],
      "text/plain": [
       "                           key          pickup_datetime  pickup_longitude  \\\n",
       "0  2015-01-27 13:08:24.0000002  2015-01-27 13:08:24 UTC        -73.973320   \n",
       "1  2015-01-27 13:08:24.0000003  2015-01-27 13:08:24 UTC        -73.986862   \n",
       "2  2011-10-08 11:53:44.0000002  2011-10-08 11:53:44 UTC        -73.982524   \n",
       "3  2012-12-01 21:12:12.0000002  2012-12-01 21:12:12 UTC        -73.981160   \n",
       "4  2012-12-01 21:12:12.0000003  2012-12-01 21:12:12 UTC        -73.966046   \n",
       "5  2012-12-01 21:12:12.0000005  2012-12-01 21:12:12 UTC        -73.960983   \n",
       "6  2011-10-06 12:10:20.0000001  2011-10-06 12:10:20 UTC        -73.949013   \n",
       "7  2011-10-06 12:10:20.0000003  2011-10-06 12:10:20 UTC        -73.777282   \n",
       "8  2011-10-06 12:10:20.0000002  2011-10-06 12:10:20 UTC        -74.014099   \n",
       "9  2014-02-18 15:22:20.0000002  2014-02-18 15:22:20 UTC        -73.969582   \n",
       "\n",
       "   pickup_latitude  dropoff_longitude  dropoff_latitude  passenger_count  \n",
       "0        40.763805         -73.981430         40.743835                1  \n",
       "1        40.719383         -73.998886         40.739201                1  \n",
       "2        40.751260         -73.979654         40.746139                1  \n",
       "3        40.767807         -73.990448         40.751635                1  \n",
       "4        40.789775         -73.988565         40.744427                1  \n",
       "5        40.765547         -73.979177         40.740053                1  \n",
       "6        40.773204         -73.959622         40.770893                1  \n",
       "7        40.646636         -73.985083         40.759368                1  \n",
       "8        40.709638         -73.995106         40.741365                1  \n",
       "9        40.765519         -73.980686         40.770725                1  "
      ]
     },
     "execution_count": 4,
     "metadata": {},
     "output_type": "execute_result"
    }
   ],
   "source": [
    "test_data = pd.read_csv('/kaggle/input/new-york-city-taxi-fare-prediction/test.csv')\n",
    "test_data.head(10)"
   ]
  },
  {
   "cell_type": "markdown",
   "id": "1e4d6491",
   "metadata": {
    "papermill": {
     "duration": 0.015105,
     "end_time": "2024-05-26T10:59:56.445977",
     "exception": false,
     "start_time": "2024-05-26T10:59:56.430872",
     "status": "completed"
    },
    "tags": []
   },
   "source": [
    "გავიგოთ სვეტების მონაცემთა ტიპები:"
   ]
  },
  {
   "cell_type": "code",
   "execution_count": 5,
   "id": "00f6ecae",
   "metadata": {
    "execution": {
     "iopub.execute_input": "2024-05-26T10:59:56.478079Z",
     "iopub.status.busy": "2024-05-26T10:59:56.477708Z",
     "iopub.status.idle": "2024-05-26T10:59:56.485864Z",
     "shell.execute_reply": "2024-05-26T10:59:56.484692Z"
    },
    "papermill": {
     "duration": 0.026916,
     "end_time": "2024-05-26T10:59:56.487906",
     "exception": false,
     "start_time": "2024-05-26T10:59:56.460990",
     "status": "completed"
    },
    "tags": []
   },
   "outputs": [
    {
     "data": {
      "text/plain": [
       "key                   object\n",
       "fare_amount          float64\n",
       "pickup_datetime       object\n",
       "pickup_longitude     float64\n",
       "pickup_latitude      float64\n",
       "dropoff_longitude    float64\n",
       "dropoff_latitude     float64\n",
       "passenger_count        int64\n",
       "dtype: object"
      ]
     },
     "execution_count": 5,
     "metadata": {},
     "output_type": "execute_result"
    }
   ],
   "source": [
    "train_data.dtypes"
   ]
  },
  {
   "cell_type": "code",
   "execution_count": 6,
   "id": "e5219181",
   "metadata": {
    "execution": {
     "iopub.execute_input": "2024-05-26T10:59:56.521177Z",
     "iopub.status.busy": "2024-05-26T10:59:56.520829Z",
     "iopub.status.idle": "2024-05-26T10:59:56.528113Z",
     "shell.execute_reply": "2024-05-26T10:59:56.527211Z"
    },
    "papermill": {
     "duration": 0.026283,
     "end_time": "2024-05-26T10:59:56.530083",
     "exception": false,
     "start_time": "2024-05-26T10:59:56.503800",
     "status": "completed"
    },
    "tags": []
   },
   "outputs": [
    {
     "data": {
      "text/plain": [
       "key                   object\n",
       "pickup_datetime       object\n",
       "pickup_longitude     float64\n",
       "pickup_latitude      float64\n",
       "dropoff_longitude    float64\n",
       "dropoff_latitude     float64\n",
       "passenger_count        int64\n",
       "dtype: object"
      ]
     },
     "execution_count": 6,
     "metadata": {},
     "output_type": "execute_result"
    }
   ],
   "source": [
    "test_data.dtypes"
   ]
  },
  {
   "cell_type": "markdown",
   "id": "ec64b677",
   "metadata": {
    "papermill": {
     "duration": 0.015075,
     "end_time": "2024-05-26T10:59:56.560474",
     "exception": false,
     "start_time": "2024-05-26T10:59:56.545399",
     "status": "completed"
    },
    "tags": []
   },
   "source": [
    "სატესტო მონაცემებში არ ვხვდებით fare_amount სვეტს.\n",
    "ახლა გავიგოთ ამ ცხრილების დახასიათება (მოდა, მაქსიმუმი, მინიმუმი...)"
   ]
  },
  {
   "cell_type": "code",
   "execution_count": 7,
   "id": "b1371268",
   "metadata": {
    "execution": {
     "iopub.execute_input": "2024-05-26T10:59:56.593241Z",
     "iopub.status.busy": "2024-05-26T10:59:56.592910Z",
     "iopub.status.idle": "2024-05-26T10:59:59.706307Z",
     "shell.execute_reply": "2024-05-26T10:59:59.705388Z"
    },
    "papermill": {
     "duration": 3.13275,
     "end_time": "2024-05-26T10:59:59.708602",
     "exception": false,
     "start_time": "2024-05-26T10:59:56.575852",
     "status": "completed"
    },
    "tags": []
   },
   "outputs": [
    {
     "data": {
      "text/html": [
       "<div>\n",
       "<style scoped>\n",
       "    .dataframe tbody tr th:only-of-type {\n",
       "        vertical-align: middle;\n",
       "    }\n",
       "\n",
       "    .dataframe tbody tr th {\n",
       "        vertical-align: top;\n",
       "    }\n",
       "\n",
       "    .dataframe thead th {\n",
       "        text-align: right;\n",
       "    }\n",
       "</style>\n",
       "<table border=\"1\" class=\"dataframe\">\n",
       "  <thead>\n",
       "    <tr style=\"text-align: right;\">\n",
       "      <th></th>\n",
       "      <th>fare_amount</th>\n",
       "      <th>pickup_longitude</th>\n",
       "      <th>pickup_latitude</th>\n",
       "      <th>dropoff_longitude</th>\n",
       "      <th>dropoff_latitude</th>\n",
       "      <th>passenger_count</th>\n",
       "    </tr>\n",
       "  </thead>\n",
       "  <tbody>\n",
       "    <tr>\n",
       "      <th>count</th>\n",
       "      <td>1.000000e+07</td>\n",
       "      <td>1.000000e+07</td>\n",
       "      <td>1.000000e+07</td>\n",
       "      <td>9.999931e+06</td>\n",
       "      <td>9.999931e+06</td>\n",
       "      <td>1.000000e+07</td>\n",
       "    </tr>\n",
       "    <tr>\n",
       "      <th>mean</th>\n",
       "      <td>1.133854e+01</td>\n",
       "      <td>-7.250775e+01</td>\n",
       "      <td>3.991934e+01</td>\n",
       "      <td>-7.250897e+01</td>\n",
       "      <td>3.991913e+01</td>\n",
       "      <td>1.684793e+00</td>\n",
       "    </tr>\n",
       "    <tr>\n",
       "      <th>std</th>\n",
       "      <td>9.799930e+00</td>\n",
       "      <td>1.299421e+01</td>\n",
       "      <td>9.322539e+00</td>\n",
       "      <td>1.287532e+01</td>\n",
       "      <td>9.237280e+00</td>\n",
       "      <td>1.323423e+00</td>\n",
       "    </tr>\n",
       "    <tr>\n",
       "      <th>min</th>\n",
       "      <td>-1.077500e+02</td>\n",
       "      <td>-3.439245e+03</td>\n",
       "      <td>-3.492264e+03</td>\n",
       "      <td>-3.426601e+03</td>\n",
       "      <td>-3.488080e+03</td>\n",
       "      <td>0.000000e+00</td>\n",
       "    </tr>\n",
       "    <tr>\n",
       "      <th>25%</th>\n",
       "      <td>6.000000e+00</td>\n",
       "      <td>-7.399207e+01</td>\n",
       "      <td>4.073491e+01</td>\n",
       "      <td>-7.399139e+01</td>\n",
       "      <td>4.073403e+01</td>\n",
       "      <td>1.000000e+00</td>\n",
       "    </tr>\n",
       "    <tr>\n",
       "      <th>50%</th>\n",
       "      <td>8.500000e+00</td>\n",
       "      <td>-7.398181e+01</td>\n",
       "      <td>4.075263e+01</td>\n",
       "      <td>-7.398015e+01</td>\n",
       "      <td>4.075316e+01</td>\n",
       "      <td>1.000000e+00</td>\n",
       "    </tr>\n",
       "    <tr>\n",
       "      <th>75%</th>\n",
       "      <td>1.250000e+01</td>\n",
       "      <td>-7.396710e+01</td>\n",
       "      <td>4.076712e+01</td>\n",
       "      <td>-7.396367e+01</td>\n",
       "      <td>4.076810e+01</td>\n",
       "      <td>2.000000e+00</td>\n",
       "    </tr>\n",
       "    <tr>\n",
       "      <th>max</th>\n",
       "      <td>1.273310e+03</td>\n",
       "      <td>3.457626e+03</td>\n",
       "      <td>3.344459e+03</td>\n",
       "      <td>3.457622e+03</td>\n",
       "      <td>3.351403e+03</td>\n",
       "      <td>2.080000e+02</td>\n",
       "    </tr>\n",
       "  </tbody>\n",
       "</table>\n",
       "</div>"
      ],
      "text/plain": [
       "        fare_amount  pickup_longitude  pickup_latitude  dropoff_longitude  \\\n",
       "count  1.000000e+07      1.000000e+07     1.000000e+07       9.999931e+06   \n",
       "mean   1.133854e+01     -7.250775e+01     3.991934e+01      -7.250897e+01   \n",
       "std    9.799930e+00      1.299421e+01     9.322539e+00       1.287532e+01   \n",
       "min   -1.077500e+02     -3.439245e+03    -3.492264e+03      -3.426601e+03   \n",
       "25%    6.000000e+00     -7.399207e+01     4.073491e+01      -7.399139e+01   \n",
       "50%    8.500000e+00     -7.398181e+01     4.075263e+01      -7.398015e+01   \n",
       "75%    1.250000e+01     -7.396710e+01     4.076712e+01      -7.396367e+01   \n",
       "max    1.273310e+03      3.457626e+03     3.344459e+03       3.457622e+03   \n",
       "\n",
       "       dropoff_latitude  passenger_count  \n",
       "count      9.999931e+06     1.000000e+07  \n",
       "mean       3.991913e+01     1.684793e+00  \n",
       "std        9.237280e+00     1.323423e+00  \n",
       "min       -3.488080e+03     0.000000e+00  \n",
       "25%        4.073403e+01     1.000000e+00  \n",
       "50%        4.075316e+01     1.000000e+00  \n",
       "75%        4.076810e+01     2.000000e+00  \n",
       "max        3.351403e+03     2.080000e+02  "
      ]
     },
     "execution_count": 7,
     "metadata": {},
     "output_type": "execute_result"
    }
   ],
   "source": [
    "train_data.describe()"
   ]
  },
  {
   "cell_type": "code",
   "execution_count": 8,
   "id": "cc0be899",
   "metadata": {
    "execution": {
     "iopub.execute_input": "2024-05-26T10:59:59.742082Z",
     "iopub.status.busy": "2024-05-26T10:59:59.741430Z",
     "iopub.status.idle": "2024-05-26T10:59:59.764802Z",
     "shell.execute_reply": "2024-05-26T10:59:59.763859Z"
    },
    "papermill": {
     "duration": 0.042566,
     "end_time": "2024-05-26T10:59:59.767019",
     "exception": false,
     "start_time": "2024-05-26T10:59:59.724453",
     "status": "completed"
    },
    "tags": []
   },
   "outputs": [
    {
     "data": {
      "text/html": [
       "<div>\n",
       "<style scoped>\n",
       "    .dataframe tbody tr th:only-of-type {\n",
       "        vertical-align: middle;\n",
       "    }\n",
       "\n",
       "    .dataframe tbody tr th {\n",
       "        vertical-align: top;\n",
       "    }\n",
       "\n",
       "    .dataframe thead th {\n",
       "        text-align: right;\n",
       "    }\n",
       "</style>\n",
       "<table border=\"1\" class=\"dataframe\">\n",
       "  <thead>\n",
       "    <tr style=\"text-align: right;\">\n",
       "      <th></th>\n",
       "      <th>pickup_longitude</th>\n",
       "      <th>pickup_latitude</th>\n",
       "      <th>dropoff_longitude</th>\n",
       "      <th>dropoff_latitude</th>\n",
       "      <th>passenger_count</th>\n",
       "    </tr>\n",
       "  </thead>\n",
       "  <tbody>\n",
       "    <tr>\n",
       "      <th>count</th>\n",
       "      <td>9914.000000</td>\n",
       "      <td>9914.000000</td>\n",
       "      <td>9914.000000</td>\n",
       "      <td>9914.000000</td>\n",
       "      <td>9914.000000</td>\n",
       "    </tr>\n",
       "    <tr>\n",
       "      <th>mean</th>\n",
       "      <td>-73.974722</td>\n",
       "      <td>40.751041</td>\n",
       "      <td>-73.973657</td>\n",
       "      <td>40.751743</td>\n",
       "      <td>1.671273</td>\n",
       "    </tr>\n",
       "    <tr>\n",
       "      <th>std</th>\n",
       "      <td>0.042774</td>\n",
       "      <td>0.033541</td>\n",
       "      <td>0.039072</td>\n",
       "      <td>0.035435</td>\n",
       "      <td>1.278747</td>\n",
       "    </tr>\n",
       "    <tr>\n",
       "      <th>min</th>\n",
       "      <td>-74.252193</td>\n",
       "      <td>40.573143</td>\n",
       "      <td>-74.263242</td>\n",
       "      <td>40.568973</td>\n",
       "      <td>1.000000</td>\n",
       "    </tr>\n",
       "    <tr>\n",
       "      <th>25%</th>\n",
       "      <td>-73.992501</td>\n",
       "      <td>40.736125</td>\n",
       "      <td>-73.991247</td>\n",
       "      <td>40.735254</td>\n",
       "      <td>1.000000</td>\n",
       "    </tr>\n",
       "    <tr>\n",
       "      <th>50%</th>\n",
       "      <td>-73.982326</td>\n",
       "      <td>40.753051</td>\n",
       "      <td>-73.980015</td>\n",
       "      <td>40.754065</td>\n",
       "      <td>1.000000</td>\n",
       "    </tr>\n",
       "    <tr>\n",
       "      <th>75%</th>\n",
       "      <td>-73.968013</td>\n",
       "      <td>40.767113</td>\n",
       "      <td>-73.964059</td>\n",
       "      <td>40.768757</td>\n",
       "      <td>2.000000</td>\n",
       "    </tr>\n",
       "    <tr>\n",
       "      <th>max</th>\n",
       "      <td>-72.986532</td>\n",
       "      <td>41.709555</td>\n",
       "      <td>-72.990963</td>\n",
       "      <td>41.696683</td>\n",
       "      <td>6.000000</td>\n",
       "    </tr>\n",
       "  </tbody>\n",
       "</table>\n",
       "</div>"
      ],
      "text/plain": [
       "       pickup_longitude  pickup_latitude  dropoff_longitude  dropoff_latitude  \\\n",
       "count       9914.000000      9914.000000        9914.000000       9914.000000   \n",
       "mean         -73.974722        40.751041         -73.973657         40.751743   \n",
       "std            0.042774         0.033541           0.039072          0.035435   \n",
       "min          -74.252193        40.573143         -74.263242         40.568973   \n",
       "25%          -73.992501        40.736125         -73.991247         40.735254   \n",
       "50%          -73.982326        40.753051         -73.980015         40.754065   \n",
       "75%          -73.968013        40.767113         -73.964059         40.768757   \n",
       "max          -72.986532        41.709555         -72.990963         41.696683   \n",
       "\n",
       "       passenger_count  \n",
       "count      9914.000000  \n",
       "mean          1.671273  \n",
       "std           1.278747  \n",
       "min           1.000000  \n",
       "25%           1.000000  \n",
       "50%           1.000000  \n",
       "75%           2.000000  \n",
       "max           6.000000  "
      ]
     },
     "execution_count": 8,
     "metadata": {},
     "output_type": "execute_result"
    }
   ],
   "source": [
    "test_data.describe()"
   ]
  },
  {
   "cell_type": "markdown",
   "id": "16342997",
   "metadata": {
    "papermill": {
     "duration": 0.015715,
     "end_time": "2024-05-26T10:59:59.798657",
     "exception": false,
     "start_time": "2024-05-26T10:59:59.782942",
     "status": "completed"
    },
    "tags": []
   },
   "source": [
    "პირველ რიგში დავაკვირდეთ, რომ fare_amount-ის მინიმალური მნიშვნელობა სატრენინგო ცხრილში უარყოფითია, რაც შეუძლებელია (გადასახადი უარყოფითი ვერ იქნება). მოვაშოროთ ასეთი მონაცემები:"
   ]
  },
  {
   "cell_type": "code",
   "execution_count": 9,
   "id": "7c2f03cb",
   "metadata": {
    "execution": {
     "iopub.execute_input": "2024-05-26T10:59:59.833243Z",
     "iopub.status.busy": "2024-05-26T10:59:59.832883Z",
     "iopub.status.idle": "2024-05-26T11:00:00.543223Z",
     "shell.execute_reply": "2024-05-26T11:00:00.541826Z"
    },
    "papermill": {
     "duration": 0.730885,
     "end_time": "2024-05-26T11:00:00.545243",
     "exception": false,
     "start_time": "2024-05-26T10:59:59.814358",
     "status": "completed"
    },
    "tags": []
   },
   "outputs": [
    {
     "name": "stdout",
     "output_type": "stream",
     "text": [
      "Size before 10000000\n",
      "Size after 9999580\n"
     ]
    }
   ],
   "source": [
    "print(\"Size before\", len(train_data))\n",
    "train_data = train_data[train_data.fare_amount >= 0]\n",
    "print(\"Size after\", len(train_data))"
   ]
  },
  {
   "cell_type": "markdown",
   "id": "125e272c",
   "metadata": {
    "papermill": {
     "duration": 0.015736,
     "end_time": "2024-05-26T11:00:00.577285",
     "exception": false,
     "start_time": "2024-05-26T11:00:00.561549",
     "status": "completed"
    },
    "tags": []
   },
   "source": [
    "ლოგიკურად, მგზავრთა რაოდენობა ტაქსში მგზავრობისას ვერ იქნება 0-ზე ნაკლები და 6-ზე მეტი (სატესტო მონაცემებშიც ასეა), ამიტომ ასეთი მონაცემებიც გავფილტროთ სატრენინგო მონაცემებში. 0-ს ჯერჯერობით ვტოვებ, რადგან შეიძლება მგზავრმა საერთოდ არ იმგზავრა და გააუქმა მგზავრობა."
   ]
  },
  {
   "cell_type": "code",
   "execution_count": 10,
   "id": "7cf2065c",
   "metadata": {
    "execution": {
     "iopub.execute_input": "2024-05-26T11:00:00.612199Z",
     "iopub.status.busy": "2024-05-26T11:00:00.611282Z",
     "iopub.status.idle": "2024-05-26T11:00:01.462364Z",
     "shell.execute_reply": "2024-05-26T11:00:01.461221Z"
    },
    "papermill": {
     "duration": 0.871128,
     "end_time": "2024-05-26T11:00:01.464968",
     "exception": false,
     "start_time": "2024-05-26T11:00:00.593840",
     "status": "completed"
    },
    "tags": []
   },
   "outputs": [
    {
     "name": "stdout",
     "output_type": "stream",
     "text": [
      "Size before 9999580\n",
      "Size after 9999563\n"
     ]
    }
   ],
   "source": [
    "print(\"Size before\", len(train_data))\n",
    "train_data = train_data[(train_data.passenger_count >= 0) & (train_data.passenger_count <= 6)]\n",
    "print(\"Size after\", len(train_data))"
   ]
  },
  {
   "cell_type": "markdown",
   "id": "4aca19da",
   "metadata": {
    "papermill": {
     "duration": 0.017181,
     "end_time": "2024-05-26T11:00:01.499210",
     "exception": false,
     "start_time": "2024-05-26T11:00:01.482029",
     "status": "completed"
    },
    "tags": []
   },
   "source": [
    "გადავიდეთ კოორდინატებზე. ზოგადად, განედის (latitude) მნიშვნელობა შეიძლება იყოს 0-დან 90 გრადუსამდე ეკვატორის ორივე მხარეს (+-), ხოლო გრძედის (longitude) მნიშვნელობა კი 0-დან 180 გრადუსამდე გრინვიჩის მერიდიანის ორივე მხარეს (+-). გავიგოთ სატრენინგო და სატესტო მონაცემებში მინიმალური/მაქსიმალური მნიშვნელობები კოორდინატებისთვის:"
   ]
  },
  {
   "cell_type": "code",
   "execution_count": 11,
   "id": "d43ce7ec",
   "metadata": {
    "execution": {
     "iopub.execute_input": "2024-05-26T11:00:01.533625Z",
     "iopub.status.busy": "2024-05-26T11:00:01.532883Z",
     "iopub.status.idle": "2024-05-26T11:00:01.875094Z",
     "shell.execute_reply": "2024-05-26T11:00:01.874017Z"
    },
    "papermill": {
     "duration": 0.362003,
     "end_time": "2024-05-26T11:00:01.877513",
     "exception": false,
     "start_time": "2024-05-26T11:00:01.515510",
     "status": "completed"
    },
    "tags": []
   },
   "outputs": [
    {
     "name": "stdout",
     "output_type": "stream",
     "text": [
      "min train pickup latitude -3492.263768\n",
      "max train pickup latitude 3344.459268\n",
      "min train pickup longitude -3439.245062\n",
      "max train pickup longitude 3457.625683\n",
      "--------------\n",
      "min test pickup latitude 40.573143\n",
      "max test pickup latitude 41.709555\n",
      "min test pickup longitude -74.252193\n",
      "max test pickup longitude -72.986532\n",
      "******************************************\n",
      "min train dropoff latitude -3488.079513\n",
      "max train dropoff latitude 3351.403027\n",
      "min train dropoff longitude -3426.600617\n",
      "max train dropoff longitude 3457.62235\n",
      "--------------\n",
      "min test dropoff latitude 40.568973\n",
      "max test dropoff latitude 41.696683\n",
      "min test dropoff longitude -74.263242\n",
      "max test dropoff longitude -72.990963\n"
     ]
    }
   ],
   "source": [
    "print(\"min train pickup latitude\", train_data.pickup_latitude.min())\n",
    "print(\"max train pickup latitude\", train_data.pickup_latitude.max())\n",
    "print(\"min train pickup longitude\", train_data.pickup_longitude.min())\n",
    "print(\"max train pickup longitude\", train_data.pickup_longitude.max())\n",
    "print(\"--------------\")\n",
    "print(\"min test pickup latitude\", test_data.pickup_latitude.min())\n",
    "print(\"max test pickup latitude\", test_data.pickup_latitude.max())\n",
    "print(\"min test pickup longitude\", test_data.pickup_longitude.min())\n",
    "print(\"max test pickup longitude\", test_data.pickup_longitude.max())\n",
    "print(\"******************************************\")\n",
    "print(\"min train dropoff latitude\", train_data.dropoff_latitude.min())\n",
    "print(\"max train dropoff latitude\", train_data.dropoff_latitude.max())\n",
    "print(\"min train dropoff longitude\", train_data.dropoff_longitude.min())\n",
    "print(\"max train dropoff longitude\", train_data.dropoff_longitude.max())\n",
    "print(\"--------------\")\n",
    "print(\"min test dropoff latitude\", test_data.dropoff_latitude.min())\n",
    "print(\"max test dropoff latitude\", test_data.dropoff_latitude.max())\n",
    "print(\"min test dropoff longitude\", test_data.dropoff_longitude.min())\n",
    "print(\"max test dropoff longitude\", test_data.dropoff_longitude.max())"
   ]
  },
  {
   "cell_type": "markdown",
   "id": "7e9d2351",
   "metadata": {
    "papermill": {
     "duration": 0.016307,
     "end_time": "2024-05-26T11:00:01.910430",
     "exception": false,
     "start_time": "2024-05-26T11:00:01.894123",
     "status": "completed"
    },
    "tags": []
   },
   "source": [
    "გავითვალისწინოთ ნიუ იურკის გრძედები და განედები და ამოვაკლოთ ცუდი მნიშვნელობები (https://en.wikipedia.org/wiki/New_York_(state))"
   ]
  },
  {
   "cell_type": "code",
   "execution_count": 12,
   "id": "3b0aa646",
   "metadata": {
    "execution": {
     "iopub.execute_input": "2024-05-26T11:00:01.945118Z",
     "iopub.status.busy": "2024-05-26T11:00:01.944323Z",
     "iopub.status.idle": "2024-05-26T11:00:02.856238Z",
     "shell.execute_reply": "2024-05-26T11:00:02.855122Z"
    },
    "papermill": {
     "duration": 0.931804,
     "end_time": "2024-05-26T11:00:02.858578",
     "exception": false,
     "start_time": "2024-05-26T11:00:01.926774",
     "status": "completed"
    },
    "tags": []
   },
   "outputs": [
    {
     "name": "stdout",
     "output_type": "stream",
     "text": [
      "Size before 9999563\n",
      "Size after 9789074\n"
     ]
    }
   ],
   "source": [
    "min_latitude = 40.30\n",
    "max_latitude = 45.1\n",
    "min_longitude = -79.46\n",
    "max_longitude = -71.51\n",
    "\n",
    "print(\"Size before\", len(train_data))\n",
    "train_data = train_data[\n",
    "    (train_data.pickup_latitude >= min_latitude) & (train_data.pickup_latitude <= max_latitude) &\n",
    "    (train_data.pickup_longitude >= min_longitude) & (train_data.pickup_longitude <= max_longitude) &\n",
    "    (train_data.dropoff_latitude >= min_latitude) & (train_data.dropoff_latitude <= max_latitude) &\n",
    "    (train_data.dropoff_longitude >= min_longitude) & (train_data.dropoff_longitude <= max_longitude)\n",
    "]\n",
    "print(\"Size after\", len(train_data))"
   ]
  },
  {
   "cell_type": "markdown",
   "id": "5906e787",
   "metadata": {
    "papermill": {
     "duration": 0.016539,
     "end_time": "2024-05-26T11:00:02.946714",
     "exception": false,
     "start_time": "2024-05-26T11:00:02.930175",
     "status": "completed"
    },
    "tags": []
   },
   "source": [
    "ახლა უკვე ნამდვილად ნიუ იორკში ვართ :)\n",
    "დავუბრუნდეთ fare_amount-ებს. მიუხედავად იმისა, რომ უარყოფითი მნიშვნელობები გამოვრიცხეთ, ჯერ კიდევ ბევრი არალოგიკური მნიშვნელობა დარჩა. ასევე, საიტის მიხედვით (https://www.numbeo.com/taxi-fare/in/New-York), შეგვიძლია კიდევ უფრო მეტად გავფილტროთ მონაცემები. ჩავთვალოთ, რომ საფასური მინიმუმ 0 დოლარია (რაც უკვე გვაქვს), ხოლო მაქსიმუმზე ჯერ დასკვნებს არ გავაკეთებ."
   ]
  },
  {
   "cell_type": "markdown",
   "id": "2f1521b2",
   "metadata": {
    "papermill": {
     "duration": 0.01625,
     "end_time": "2024-05-26T11:00:02.979689",
     "exception": false,
     "start_time": "2024-05-26T11:00:02.963439",
     "status": "completed"
    },
    "tags": []
   },
   "source": [
    "ცხრილში დავამატოთ სვეტი სადაც გვექნება შენახული საწყის და საბოლოო წერტილებს შორის მანძილი. გამოვიყენებ სტატიაში განხილულ ფორმულას, უბრალოდ გავავექტორიზირებ, რათა დიდი დრო არ დასჭირდეს ყველა მონაცემისთვის დისტანციის დათვლას (https://stackoverflow.com/questions/4913349/haversine-formula-in-python-bearing-and-distance-between-two-gps-points)"
   ]
  },
  {
   "cell_type": "code",
   "execution_count": 13,
   "id": "c9d3879b",
   "metadata": {
    "execution": {
     "iopub.execute_input": "2024-05-26T11:00:03.017202Z",
     "iopub.status.busy": "2024-05-26T11:00:03.016376Z",
     "iopub.status.idle": "2024-05-26T11:00:03.023576Z",
     "shell.execute_reply": "2024-05-26T11:00:03.022366Z"
    },
    "papermill": {
     "duration": 0.029578,
     "end_time": "2024-05-26T11:00:03.025710",
     "exception": false,
     "start_time": "2024-05-26T11:00:02.996132",
     "status": "completed"
    },
    "tags": []
   },
   "outputs": [],
   "source": [
    "import numpy as np\n",
    "\n",
    "def vectorized_haversine(df):\n",
    "    lat1, lon1, lat2, lon2 = df['pickup_latitude'], df['pickup_longitude'], df['dropoff_latitude'], df['dropoff_longitude']\n",
    "    lat1, lon1, lat2, lon2 = map(np.radians, [lat1, lon1, lat2, lon2])\n",
    "\n",
    "    # Haversine formula\n",
    "    dlat = lat2 - lat1\n",
    "    dlon = lon2 - lon1\n",
    "    a = np.sin(dlat / 2.0)**2 + np.cos(lat1) * np.cos(lat2) * np.sin(dlon / 2.0)**2\n",
    "    c = 2 * np.arcsin(np.sqrt(a))\n",
    "\n",
    "    r = 6371\n",
    "\n",
    "    d = c * r\n",
    "    df['distance'] = d\n",
    "    return d"
   ]
  },
  {
   "cell_type": "code",
   "execution_count": 14,
   "id": "cf17fd2a",
   "metadata": {
    "execution": {
     "iopub.execute_input": "2024-05-26T11:00:03.060761Z",
     "iopub.status.busy": "2024-05-26T11:00:03.060386Z",
     "iopub.status.idle": "2024-05-26T11:00:04.179122Z",
     "shell.execute_reply": "2024-05-26T11:00:04.177870Z"
    },
    "papermill": {
     "duration": 1.138936,
     "end_time": "2024-05-26T11:00:04.181482",
     "exception": false,
     "start_time": "2024-05-26T11:00:03.042546",
     "status": "completed"
    },
    "tags": []
   },
   "outputs": [
    {
     "data": {
      "text/plain": [
       "0        2.323260\n",
       "1        2.425353\n",
       "2        0.618628\n",
       "3        1.961033\n",
       "4        5.387301\n",
       "          ...    \n",
       "9909     2.124874\n",
       "9910     3.270969\n",
       "9911    19.183941\n",
       "9912     8.343486\n",
       "9913     1.180825\n",
       "Length: 9914, dtype: float64"
      ]
     },
     "execution_count": 14,
     "metadata": {},
     "output_type": "execute_result"
    }
   ],
   "source": [
    "vectorized_haversine(train_data)\n",
    "vectorized_haversine(test_data)"
   ]
  },
  {
   "cell_type": "code",
   "execution_count": 15,
   "id": "f77d64d8",
   "metadata": {
    "execution": {
     "iopub.execute_input": "2024-05-26T11:00:04.217755Z",
     "iopub.status.busy": "2024-05-26T11:00:04.216844Z",
     "iopub.status.idle": "2024-05-26T11:00:04.672282Z",
     "shell.execute_reply": "2024-05-26T11:00:04.671252Z"
    },
    "papermill": {
     "duration": 0.47589,
     "end_time": "2024-05-26T11:00:04.674615",
     "exception": false,
     "start_time": "2024-05-26T11:00:04.198725",
     "status": "completed"
    },
    "tags": []
   },
   "outputs": [
    {
     "data": {
      "text/plain": [
       "count    9.789074e+06\n",
       "mean     3.336459e+00\n",
       "std      3.985754e+00\n",
       "min      0.000000e+00\n",
       "25%      1.253417e+00\n",
       "50%      2.152299e+00\n",
       "75%      3.908628e+00\n",
       "max      5.945121e+02\n",
       "Name: distance, dtype: float64"
      ]
     },
     "execution_count": 15,
     "metadata": {},
     "output_type": "execute_result"
    }
   ],
   "source": [
    "train_data.distance.describe()"
   ]
  },
  {
   "cell_type": "markdown",
   "id": "d38e4b39",
   "metadata": {
    "papermill": {
     "duration": 0.016635,
     "end_time": "2024-05-26T11:00:04.708476",
     "exception": false,
     "start_time": "2024-05-26T11:00:04.691841",
     "status": "completed"
    },
    "tags": []
   },
   "source": [
    "როგორც ჩანს მინიმალური მანძილი 0-ის ტოლია, რაც შესაძლებელია მხოლოდ მაშინ, თუ მგზავრი არ გამოცხადდა."
   ]
  },
  {
   "cell_type": "markdown",
   "id": "3b1bc687",
   "metadata": {
    "papermill": {
     "duration": 0.016646,
     "end_time": "2024-05-26T11:00:04.741842",
     "exception": false,
     "start_time": "2024-05-26T11:00:04.725196",
     "status": "completed"
    },
    "tags": []
   },
   "source": [
    "გავიგოთ ეს მონაცემები სატესტო ბაზისთვისაც:"
   ]
  },
  {
   "cell_type": "code",
   "execution_count": 16,
   "id": "2bea553f",
   "metadata": {
    "execution": {
     "iopub.execute_input": "2024-05-26T11:00:04.778157Z",
     "iopub.status.busy": "2024-05-26T11:00:04.777410Z",
     "iopub.status.idle": "2024-05-26T11:00:04.792033Z",
     "shell.execute_reply": "2024-05-26T11:00:04.790799Z"
    },
    "papermill": {
     "duration": 0.03498,
     "end_time": "2024-05-26T11:00:04.794244",
     "exception": false,
     "start_time": "2024-05-26T11:00:04.759264",
     "status": "completed"
    },
    "tags": []
   },
   "outputs": [
    {
     "name": "stdout",
     "output_type": "stream",
     "text": [
      "                           key          pickup_datetime  pickup_longitude  \\\n",
      "0  2015-01-27 13:08:24.0000002  2015-01-27 13:08:24 UTC        -73.973320   \n",
      "1  2015-01-27 13:08:24.0000003  2015-01-27 13:08:24 UTC        -73.986862   \n",
      "2  2011-10-08 11:53:44.0000002  2011-10-08 11:53:44 UTC        -73.982524   \n",
      "3  2012-12-01 21:12:12.0000002  2012-12-01 21:12:12 UTC        -73.981160   \n",
      "4  2012-12-01 21:12:12.0000003  2012-12-01 21:12:12 UTC        -73.966046   \n",
      "5  2012-12-01 21:12:12.0000005  2012-12-01 21:12:12 UTC        -73.960983   \n",
      "6  2011-10-06 12:10:20.0000001  2011-10-06 12:10:20 UTC        -73.949013   \n",
      "7  2011-10-06 12:10:20.0000003  2011-10-06 12:10:20 UTC        -73.777282   \n",
      "8  2011-10-06 12:10:20.0000002  2011-10-06 12:10:20 UTC        -74.014099   \n",
      "9  2014-02-18 15:22:20.0000002  2014-02-18 15:22:20 UTC        -73.969582   \n",
      "\n",
      "   pickup_latitude  dropoff_longitude  dropoff_latitude  passenger_count  \\\n",
      "0        40.763805         -73.981430         40.743835                1   \n",
      "1        40.719383         -73.998886         40.739201                1   \n",
      "2        40.751260         -73.979654         40.746139                1   \n",
      "3        40.767807         -73.990448         40.751635                1   \n",
      "4        40.789775         -73.988565         40.744427                1   \n",
      "5        40.765547         -73.979177         40.740053                1   \n",
      "6        40.773204         -73.959622         40.770893                1   \n",
      "7        40.646636         -73.985083         40.759368                1   \n",
      "8        40.709638         -73.995106         40.741365                1   \n",
      "9        40.765519         -73.980686         40.770725                1   \n",
      "\n",
      "    distance  \n",
      "0   2.323260  \n",
      "1   2.425353  \n",
      "2   0.618628  \n",
      "3   1.961033  \n",
      "4   5.387301  \n",
      "5   3.222549  \n",
      "6   0.929601  \n",
      "7  21.540102  \n",
      "8   3.873962  \n",
      "9   1.099794  \n"
     ]
    },
    {
     "data": {
      "text/plain": [
       "count    9914.000000\n",
       "mean        3.435371\n",
       "std         3.972374\n",
       "min         0.000000\n",
       "25%         1.298277\n",
       "50%         2.217412\n",
       "75%         4.045302\n",
       "max        99.996040\n",
       "Name: distance, dtype: float64"
      ]
     },
     "execution_count": 16,
     "metadata": {},
     "output_type": "execute_result"
    }
   ],
   "source": [
    "print(test_data.head(10))\n",
    "test_data.distance.describe()"
   ]
  },
  {
   "cell_type": "markdown",
   "id": "70b1bb11",
   "metadata": {
    "papermill": {
     "duration": 0.017428,
     "end_time": "2024-05-26T11:00:04.828996",
     "exception": false,
     "start_time": "2024-05-26T11:00:04.811568",
     "status": "completed"
    },
    "tags": []
   },
   "source": [
    "100 კილომეტრზე მეტის მგზავრობა ნიუ იორკში წარმოუდგენელია :)"
   ]
  },
  {
   "cell_type": "code",
   "execution_count": 17,
   "id": "9aa8a69d",
   "metadata": {
    "execution": {
     "iopub.execute_input": "2024-05-26T11:00:04.866048Z",
     "iopub.status.busy": "2024-05-26T11:00:04.865710Z",
     "iopub.status.idle": "2024-05-26T11:00:05.739275Z",
     "shell.execute_reply": "2024-05-26T11:00:05.737939Z"
    },
    "papermill": {
     "duration": 0.894331,
     "end_time": "2024-05-26T11:00:05.741546",
     "exception": false,
     "start_time": "2024-05-26T11:00:04.847215",
     "status": "completed"
    },
    "tags": []
   },
   "outputs": [
    {
     "name": "stdout",
     "output_type": "stream",
     "text": [
      "Size before 9789074\n",
      "Size after 9788074\n"
     ]
    }
   ],
   "source": [
    "print(\"Size before\", len(train_data))\n",
    "train_data = train_data[train_data.distance < 100]\n",
    "print(\"Size after\", len(train_data))"
   ]
  },
  {
   "cell_type": "markdown",
   "id": "0c30765c",
   "metadata": {
    "papermill": {
     "duration": 0.017308,
     "end_time": "2024-05-26T11:00:05.776283",
     "exception": false,
     "start_time": "2024-05-26T11:00:05.758975",
     "status": "completed"
    },
    "tags": []
   },
   "source": [
    "მინიმუმი აქაც 0-ია, ამიტომ პირდაპირ არ ამოვშალთ ასეთი row-ები. სტატიის მიხედვით (https://www.nyc.gov/site/tlc/passengers/taxi-fare.page#:~:text=%243.00%20initial%20charge.,Dutchess%2C%20Orange%20or%20Putnam%20Counties.) ნიუ იორკში ტაქსის მინიმალური გადასახადი არის 3 დოლარი (კიდევ ბევრ სტატიაში ეწერა, რომ 3 დოლარია მინიმალური გადასახადი). თუკი მგზავრი არ გამოცხადდება, 3 დოლარის გადახდა მაინც მოუწევს. ამიტომ ისეთი მონაცემები ამოვშალოთ, რომლებშიც მგზავრობა არ შედგა (distance = 0) და fare_amount 3 დოლარზე მეტი იყო."
   ]
  },
  {
   "cell_type": "code",
   "execution_count": 18,
   "id": "d5299dc8",
   "metadata": {
    "execution": {
     "iopub.execute_input": "2024-05-26T11:00:05.813523Z",
     "iopub.status.busy": "2024-05-26T11:00:05.813151Z",
     "iopub.status.idle": "2024-05-26T11:00:06.720431Z",
     "shell.execute_reply": "2024-05-26T11:00:06.719403Z"
    },
    "papermill": {
     "duration": 0.929137,
     "end_time": "2024-05-26T11:00:06.723114",
     "exception": false,
     "start_time": "2024-05-26T11:00:05.793977",
     "status": "completed"
    },
    "tags": []
   },
   "outputs": [
    {
     "name": "stdout",
     "output_type": "stream",
     "text": [
      "Size before 9788074\n",
      "Size after 9693247\n"
     ]
    }
   ],
   "source": [
    "print(\"Size before\", len(train_data))\n",
    "train_data = train_data[~((train_data.distance == 0) & (train_data.fare_amount > 3))]\n",
    "print(\"Size after\", len(train_data))"
   ]
  },
  {
   "cell_type": "markdown",
   "id": "e98d3a9b",
   "metadata": {
    "papermill": {
     "duration": 0.019256,
     "end_time": "2024-05-26T11:00:06.761405",
     "exception": false,
     "start_time": "2024-05-26T11:00:06.742149",
     "status": "completed"
    },
    "tags": []
   },
   "source": [
    "მოდი, key და თარიღი გავშალოთ; ამოვიღოთ წელი, თვე, დღე, საათი, კვირის დღე, რაც შეიძლება გამოგვადგეს, რადგან ვიცით, რომ რაღაც პერიოდებში ტაქსზე მოთხოვნა მეტია.\n",
    "\n",
    "აქვე დავიმახსოვრებ სატესტო მონაცემების key-ებს, რაც ბოლოს დამჭირდება შედეგის დასასაბმითებლად."
   ]
  },
  {
   "cell_type": "code",
   "execution_count": 19,
   "id": "5da99aa3",
   "metadata": {
    "execution": {
     "iopub.execute_input": "2024-05-26T11:00:06.798449Z",
     "iopub.status.busy": "2024-05-26T11:00:06.797484Z",
     "iopub.status.idle": "2024-05-26T11:02:15.286400Z",
     "shell.execute_reply": "2024-05-26T11:02:15.285006Z"
    },
    "papermill": {
     "duration": 128.510166,
     "end_time": "2024-05-26T11:02:15.289103",
     "exception": false,
     "start_time": "2024-05-26T11:00:06.778937",
     "status": "completed"
    },
    "tags": []
   },
   "outputs": [],
   "source": [
    "test_keys = test_data['key']\n",
    "\n",
    "train_data[\"key\"] = pd.to_datetime(train_data[\"key\"])\n",
    "train_data[\"pickup_datetime\"] = pd.to_datetime(train_data[\"pickup_datetime\"])\n",
    "test_data[\"key\"] = pd.to_datetime(test_data[\"key\"])\n",
    "test_data[\"pickup_datetime\"] = pd.to_datetime(test_data[\"pickup_datetime\"])"
   ]
  },
  {
   "cell_type": "code",
   "execution_count": 20,
   "id": "1087289a",
   "metadata": {
    "execution": {
     "iopub.execute_input": "2024-05-26T11:02:15.326244Z",
     "iopub.status.busy": "2024-05-26T11:02:15.325855Z",
     "iopub.status.idle": "2024-05-26T11:02:17.819788Z",
     "shell.execute_reply": "2024-05-26T11:02:17.818872Z"
    },
    "papermill": {
     "duration": 2.515294,
     "end_time": "2024-05-26T11:02:17.822468",
     "exception": false,
     "start_time": "2024-05-26T11:02:15.307174",
     "status": "completed"
    },
    "tags": []
   },
   "outputs": [],
   "source": [
    "train_data['Year'] = train_data['pickup_datetime'].dt.year\n",
    "train_data['Month'] = train_data['pickup_datetime'].dt.month\n",
    "train_data['Day'] = train_data['pickup_datetime'].dt.day\n",
    "train_data['DayOfWeek'] = train_data['pickup_datetime'].dt.dayofweek\n",
    "train_data['Hour'] = train_data['pickup_datetime'].dt.hour"
   ]
  },
  {
   "cell_type": "code",
   "execution_count": 21,
   "id": "92b25330",
   "metadata": {
    "execution": {
     "iopub.execute_input": "2024-05-26T11:02:17.859636Z",
     "iopub.status.busy": "2024-05-26T11:02:17.859261Z",
     "iopub.status.idle": "2024-05-26T11:02:17.870081Z",
     "shell.execute_reply": "2024-05-26T11:02:17.869025Z"
    },
    "papermill": {
     "duration": 0.031772,
     "end_time": "2024-05-26T11:02:17.872306",
     "exception": false,
     "start_time": "2024-05-26T11:02:17.840534",
     "status": "completed"
    },
    "tags": []
   },
   "outputs": [],
   "source": [
    "test_data['Year'] = test_data['pickup_datetime'].dt.year\n",
    "test_data['Month'] = test_data['pickup_datetime'].dt.month\n",
    "test_data['Day'] = test_data['pickup_datetime'].dt.day\n",
    "test_data['DayOfWeek'] = test_data['pickup_datetime'].dt.dayofweek\n",
    "test_data['Hour'] = test_data['pickup_datetime'].dt.hour"
   ]
  },
  {
   "cell_type": "code",
   "execution_count": 22,
   "id": "d0b1b100",
   "metadata": {
    "execution": {
     "iopub.execute_input": "2024-05-26T11:02:17.909179Z",
     "iopub.status.busy": "2024-05-26T11:02:17.908815Z",
     "iopub.status.idle": "2024-05-26T11:02:17.925560Z",
     "shell.execute_reply": "2024-05-26T11:02:17.924557Z"
    },
    "papermill": {
     "duration": 0.037682,
     "end_time": "2024-05-26T11:02:17.927648",
     "exception": false,
     "start_time": "2024-05-26T11:02:17.889966",
     "status": "completed"
    },
    "tags": []
   },
   "outputs": [
    {
     "data": {
      "text/html": [
       "<div>\n",
       "<style scoped>\n",
       "    .dataframe tbody tr th:only-of-type {\n",
       "        vertical-align: middle;\n",
       "    }\n",
       "\n",
       "    .dataframe tbody tr th {\n",
       "        vertical-align: top;\n",
       "    }\n",
       "\n",
       "    .dataframe thead th {\n",
       "        text-align: right;\n",
       "    }\n",
       "</style>\n",
       "<table border=\"1\" class=\"dataframe\">\n",
       "  <thead>\n",
       "    <tr style=\"text-align: right;\">\n",
       "      <th></th>\n",
       "      <th>key</th>\n",
       "      <th>fare_amount</th>\n",
       "      <th>pickup_datetime</th>\n",
       "      <th>pickup_longitude</th>\n",
       "      <th>pickup_latitude</th>\n",
       "      <th>dropoff_longitude</th>\n",
       "      <th>dropoff_latitude</th>\n",
       "      <th>passenger_count</th>\n",
       "      <th>distance</th>\n",
       "      <th>Year</th>\n",
       "      <th>Month</th>\n",
       "      <th>Day</th>\n",
       "      <th>DayOfWeek</th>\n",
       "      <th>Hour</th>\n",
       "    </tr>\n",
       "  </thead>\n",
       "  <tbody>\n",
       "    <tr>\n",
       "      <th>0</th>\n",
       "      <td>2009-06-15 17:26:21.000000100</td>\n",
       "      <td>4.5</td>\n",
       "      <td>2009-06-15 17:26:21+00:00</td>\n",
       "      <td>-73.844311</td>\n",
       "      <td>40.721319</td>\n",
       "      <td>-73.841610</td>\n",
       "      <td>40.712278</td>\n",
       "      <td>1</td>\n",
       "      <td>1.030764</td>\n",
       "      <td>2009</td>\n",
       "      <td>6</td>\n",
       "      <td>15</td>\n",
       "      <td>0</td>\n",
       "      <td>17</td>\n",
       "    </tr>\n",
       "    <tr>\n",
       "      <th>1</th>\n",
       "      <td>2010-01-05 16:52:16.000000200</td>\n",
       "      <td>16.9</td>\n",
       "      <td>2010-01-05 16:52:16+00:00</td>\n",
       "      <td>-74.016048</td>\n",
       "      <td>40.711303</td>\n",
       "      <td>-73.979268</td>\n",
       "      <td>40.782004</td>\n",
       "      <td>1</td>\n",
       "      <td>8.450134</td>\n",
       "      <td>2010</td>\n",
       "      <td>1</td>\n",
       "      <td>5</td>\n",
       "      <td>1</td>\n",
       "      <td>16</td>\n",
       "    </tr>\n",
       "    <tr>\n",
       "      <th>2</th>\n",
       "      <td>2011-08-18 00:35:00.000000490</td>\n",
       "      <td>5.7</td>\n",
       "      <td>2011-08-18 00:35:00+00:00</td>\n",
       "      <td>-73.982738</td>\n",
       "      <td>40.761270</td>\n",
       "      <td>-73.991242</td>\n",
       "      <td>40.750562</td>\n",
       "      <td>2</td>\n",
       "      <td>1.389525</td>\n",
       "      <td>2011</td>\n",
       "      <td>8</td>\n",
       "      <td>18</td>\n",
       "      <td>3</td>\n",
       "      <td>0</td>\n",
       "    </tr>\n",
       "    <tr>\n",
       "      <th>3</th>\n",
       "      <td>2012-04-21 04:30:42.000000100</td>\n",
       "      <td>7.7</td>\n",
       "      <td>2012-04-21 04:30:42+00:00</td>\n",
       "      <td>-73.987130</td>\n",
       "      <td>40.733143</td>\n",
       "      <td>-73.991567</td>\n",
       "      <td>40.758092</td>\n",
       "      <td>1</td>\n",
       "      <td>2.799270</td>\n",
       "      <td>2012</td>\n",
       "      <td>4</td>\n",
       "      <td>21</td>\n",
       "      <td>5</td>\n",
       "      <td>4</td>\n",
       "    </tr>\n",
       "    <tr>\n",
       "      <th>4</th>\n",
       "      <td>2010-03-09 07:51:00.000000135</td>\n",
       "      <td>5.3</td>\n",
       "      <td>2010-03-09 07:51:00+00:00</td>\n",
       "      <td>-73.968095</td>\n",
       "      <td>40.768008</td>\n",
       "      <td>-73.956655</td>\n",
       "      <td>40.783762</td>\n",
       "      <td>1</td>\n",
       "      <td>1.999157</td>\n",
       "      <td>2010</td>\n",
       "      <td>3</td>\n",
       "      <td>9</td>\n",
       "      <td>1</td>\n",
       "      <td>7</td>\n",
       "    </tr>\n",
       "  </tbody>\n",
       "</table>\n",
       "</div>"
      ],
      "text/plain": [
       "                            key  fare_amount           pickup_datetime  \\\n",
       "0 2009-06-15 17:26:21.000000100          4.5 2009-06-15 17:26:21+00:00   \n",
       "1 2010-01-05 16:52:16.000000200         16.9 2010-01-05 16:52:16+00:00   \n",
       "2 2011-08-18 00:35:00.000000490          5.7 2011-08-18 00:35:00+00:00   \n",
       "3 2012-04-21 04:30:42.000000100          7.7 2012-04-21 04:30:42+00:00   \n",
       "4 2010-03-09 07:51:00.000000135          5.3 2010-03-09 07:51:00+00:00   \n",
       "\n",
       "   pickup_longitude  pickup_latitude  dropoff_longitude  dropoff_latitude  \\\n",
       "0        -73.844311        40.721319         -73.841610         40.712278   \n",
       "1        -74.016048        40.711303         -73.979268         40.782004   \n",
       "2        -73.982738        40.761270         -73.991242         40.750562   \n",
       "3        -73.987130        40.733143         -73.991567         40.758092   \n",
       "4        -73.968095        40.768008         -73.956655         40.783762   \n",
       "\n",
       "   passenger_count  distance  Year  Month  Day  DayOfWeek  Hour  \n",
       "0                1  1.030764  2009      6   15          0    17  \n",
       "1                1  8.450134  2010      1    5          1    16  \n",
       "2                2  1.389525  2011      8   18          3     0  \n",
       "3                1  2.799270  2012      4   21          5     4  \n",
       "4                1  1.999157  2010      3    9          1     7  "
      ]
     },
     "execution_count": 22,
     "metadata": {},
     "output_type": "execute_result"
    }
   ],
   "source": [
    "train_data.head()"
   ]
  },
  {
   "cell_type": "code",
   "execution_count": 23,
   "id": "d63fcb86",
   "metadata": {
    "execution": {
     "iopub.execute_input": "2024-05-26T11:02:17.965206Z",
     "iopub.status.busy": "2024-05-26T11:02:17.964844Z",
     "iopub.status.idle": "2024-05-26T11:02:17.979443Z",
     "shell.execute_reply": "2024-05-26T11:02:17.978481Z"
    },
    "papermill": {
     "duration": 0.035878,
     "end_time": "2024-05-26T11:02:17.981847",
     "exception": false,
     "start_time": "2024-05-26T11:02:17.945969",
     "status": "completed"
    },
    "tags": []
   },
   "outputs": [
    {
     "data": {
      "text/html": [
       "<div>\n",
       "<style scoped>\n",
       "    .dataframe tbody tr th:only-of-type {\n",
       "        vertical-align: middle;\n",
       "    }\n",
       "\n",
       "    .dataframe tbody tr th {\n",
       "        vertical-align: top;\n",
       "    }\n",
       "\n",
       "    .dataframe thead th {\n",
       "        text-align: right;\n",
       "    }\n",
       "</style>\n",
       "<table border=\"1\" class=\"dataframe\">\n",
       "  <thead>\n",
       "    <tr style=\"text-align: right;\">\n",
       "      <th></th>\n",
       "      <th>key</th>\n",
       "      <th>pickup_datetime</th>\n",
       "      <th>pickup_longitude</th>\n",
       "      <th>pickup_latitude</th>\n",
       "      <th>dropoff_longitude</th>\n",
       "      <th>dropoff_latitude</th>\n",
       "      <th>passenger_count</th>\n",
       "      <th>distance</th>\n",
       "      <th>Year</th>\n",
       "      <th>Month</th>\n",
       "      <th>Day</th>\n",
       "      <th>DayOfWeek</th>\n",
       "      <th>Hour</th>\n",
       "    </tr>\n",
       "  </thead>\n",
       "  <tbody>\n",
       "    <tr>\n",
       "      <th>0</th>\n",
       "      <td>2015-01-27 13:08:24.000000200</td>\n",
       "      <td>2015-01-27 13:08:24+00:00</td>\n",
       "      <td>-73.973320</td>\n",
       "      <td>40.763805</td>\n",
       "      <td>-73.981430</td>\n",
       "      <td>40.743835</td>\n",
       "      <td>1</td>\n",
       "      <td>2.323260</td>\n",
       "      <td>2015</td>\n",
       "      <td>1</td>\n",
       "      <td>27</td>\n",
       "      <td>1</td>\n",
       "      <td>13</td>\n",
       "    </tr>\n",
       "    <tr>\n",
       "      <th>1</th>\n",
       "      <td>2015-01-27 13:08:24.000000300</td>\n",
       "      <td>2015-01-27 13:08:24+00:00</td>\n",
       "      <td>-73.986862</td>\n",
       "      <td>40.719383</td>\n",
       "      <td>-73.998886</td>\n",
       "      <td>40.739201</td>\n",
       "      <td>1</td>\n",
       "      <td>2.425353</td>\n",
       "      <td>2015</td>\n",
       "      <td>1</td>\n",
       "      <td>27</td>\n",
       "      <td>1</td>\n",
       "      <td>13</td>\n",
       "    </tr>\n",
       "    <tr>\n",
       "      <th>2</th>\n",
       "      <td>2011-10-08 11:53:44.000000200</td>\n",
       "      <td>2011-10-08 11:53:44+00:00</td>\n",
       "      <td>-73.982524</td>\n",
       "      <td>40.751260</td>\n",
       "      <td>-73.979654</td>\n",
       "      <td>40.746139</td>\n",
       "      <td>1</td>\n",
       "      <td>0.618628</td>\n",
       "      <td>2011</td>\n",
       "      <td>10</td>\n",
       "      <td>8</td>\n",
       "      <td>5</td>\n",
       "      <td>11</td>\n",
       "    </tr>\n",
       "    <tr>\n",
       "      <th>3</th>\n",
       "      <td>2012-12-01 21:12:12.000000200</td>\n",
       "      <td>2012-12-01 21:12:12+00:00</td>\n",
       "      <td>-73.981160</td>\n",
       "      <td>40.767807</td>\n",
       "      <td>-73.990448</td>\n",
       "      <td>40.751635</td>\n",
       "      <td>1</td>\n",
       "      <td>1.961033</td>\n",
       "      <td>2012</td>\n",
       "      <td>12</td>\n",
       "      <td>1</td>\n",
       "      <td>5</td>\n",
       "      <td>21</td>\n",
       "    </tr>\n",
       "    <tr>\n",
       "      <th>4</th>\n",
       "      <td>2012-12-01 21:12:12.000000300</td>\n",
       "      <td>2012-12-01 21:12:12+00:00</td>\n",
       "      <td>-73.966046</td>\n",
       "      <td>40.789775</td>\n",
       "      <td>-73.988565</td>\n",
       "      <td>40.744427</td>\n",
       "      <td>1</td>\n",
       "      <td>5.387301</td>\n",
       "      <td>2012</td>\n",
       "      <td>12</td>\n",
       "      <td>1</td>\n",
       "      <td>5</td>\n",
       "      <td>21</td>\n",
       "    </tr>\n",
       "  </tbody>\n",
       "</table>\n",
       "</div>"
      ],
      "text/plain": [
       "                            key           pickup_datetime  pickup_longitude  \\\n",
       "0 2015-01-27 13:08:24.000000200 2015-01-27 13:08:24+00:00        -73.973320   \n",
       "1 2015-01-27 13:08:24.000000300 2015-01-27 13:08:24+00:00        -73.986862   \n",
       "2 2011-10-08 11:53:44.000000200 2011-10-08 11:53:44+00:00        -73.982524   \n",
       "3 2012-12-01 21:12:12.000000200 2012-12-01 21:12:12+00:00        -73.981160   \n",
       "4 2012-12-01 21:12:12.000000300 2012-12-01 21:12:12+00:00        -73.966046   \n",
       "\n",
       "   pickup_latitude  dropoff_longitude  dropoff_latitude  passenger_count  \\\n",
       "0        40.763805         -73.981430         40.743835                1   \n",
       "1        40.719383         -73.998886         40.739201                1   \n",
       "2        40.751260         -73.979654         40.746139                1   \n",
       "3        40.767807         -73.990448         40.751635                1   \n",
       "4        40.789775         -73.988565         40.744427                1   \n",
       "\n",
       "   distance  Year  Month  Day  DayOfWeek  Hour  \n",
       "0  2.323260  2015      1   27          1    13  \n",
       "1  2.425353  2015      1   27          1    13  \n",
       "2  0.618628  2011     10    8          5    11  \n",
       "3  1.961033  2012     12    1          5    21  \n",
       "4  5.387301  2012     12    1          5    21  "
      ]
     },
     "execution_count": 23,
     "metadata": {},
     "output_type": "execute_result"
    }
   ],
   "source": [
    "test_data.head()"
   ]
  },
  {
   "cell_type": "markdown",
   "id": "ce3b4ee2",
   "metadata": {
    "papermill": {
     "duration": 0.017762,
     "end_time": "2024-05-26T11:02:18.018368",
     "exception": false,
     "start_time": "2024-05-26T11:02:18.000606",
     "status": "completed"
    },
    "tags": []
   },
   "source": [
    "ახლა დავაკვირდეთ გადასახადებს საათების, დღეების, თვეების, წლების მიხედვით. ალბათ, შეგვეძლება რაღაც დასკვნების გაკეთება (მაგალითად, (ვვარაუდობ) პიკის საათებში წესით მეტი უნდა იყოს გადასახდელი)."
   ]
  },
  {
   "cell_type": "code",
   "execution_count": 24,
   "id": "c3cce841",
   "metadata": {
    "execution": {
     "iopub.execute_input": "2024-05-26T11:02:18.056005Z",
     "iopub.status.busy": "2024-05-26T11:02:18.055624Z",
     "iopub.status.idle": "2024-05-26T11:02:43.261863Z",
     "shell.execute_reply": "2024-05-26T11:02:43.260719Z"
    },
    "papermill": {
     "duration": 25.227518,
     "end_time": "2024-05-26T11:02:43.263992",
     "exception": false,
     "start_time": "2024-05-26T11:02:18.036474",
     "status": "completed"
    },
    "tags": []
   },
   "outputs": [
    {
     "data": {
      "image/png": "[encoded data removed]",
      "text/plain": [
       "<Figure size 1000x600 with 1 Axes>"
      ]
     },
     "metadata": {},
     "output_type": "display_data"
    }
   ],
   "source": [
    "import matplotlib.pyplot as plt\n",
    "\n",
    "plt.figure(figsize=(10, 6))\n",
    "plt.scatter(train_data['DayOfWeek'], train_data['fare_amount'], alpha=0.5)\n",
    "plt.xlabel('Day of the Week')\n",
    "plt.ylabel('Fare Amount ($)')\n",
    "plt.title('Fare Amount vs. Day of the Week')\n",
    "plt.xticks(range(7), ['Monday', 'Tuesday', 'Wednesday', 'Thursday', 'Friday', 'Saturday', 'Sunday'])\n",
    "plt.grid(True)\n",
    "plt.show()"
   ]
  },
  {
   "cell_type": "markdown",
   "id": "cbdc8732",
   "metadata": {
    "papermill": {
     "duration": 0.018505,
     "end_time": "2024-05-26T11:02:43.301539",
     "exception": false,
     "start_time": "2024-05-26T11:02:43.283034",
     "status": "completed"
    },
    "tags": []
   },
   "source": [
    "დღეებმა ბევრი არაფერი არ მოგვცა, თანხები თითქმის თანაბრადაა (ერთადერთი, ორშაბათ დღეს თუ დავაკვირდებით ერთი წერტილი ზედემეტად ზემოთაა, რაც, ალბათ, აუთლაიერია)."
   ]
  },
  {
   "cell_type": "markdown",
   "id": "4b66ac02",
   "metadata": {
    "papermill": {
     "duration": 0.0184,
     "end_time": "2024-05-26T11:02:43.338760",
     "exception": false,
     "start_time": "2024-05-26T11:02:43.320360",
     "status": "completed"
    },
    "tags": []
   },
   "source": [
    "ახლა საათებს დავაკვირდეთ."
   ]
  },
  {
   "cell_type": "code",
   "execution_count": 25,
   "id": "0f1dfa95",
   "metadata": {
    "execution": {
     "iopub.execute_input": "2024-05-26T11:02:43.378235Z",
     "iopub.status.busy": "2024-05-26T11:02:43.377358Z",
     "iopub.status.idle": "2024-05-26T11:03:08.639553Z",
     "shell.execute_reply": "2024-05-26T11:03:08.638368Z"
    },
    "papermill": {
     "duration": 25.284596,
     "end_time": "2024-05-26T11:03:08.642110",
     "exception": false,
     "start_time": "2024-05-26T11:02:43.357514",
     "status": "completed"
    },
    "tags": []
   },
   "outputs": [
    {
     "data": {
      "image/png": "[encoded data removed]",
      "text/plain": [
       "<Figure size 1000x600 with 1 Axes>"
      ]
     },
     "metadata": {},
     "output_type": "display_data"
    }
   ],
   "source": [
    "plt.figure(figsize=(10, 6))\n",
    "plt.scatter(train_data['Hour'], train_data['fare_amount'], alpha=0.5)\n",
    "plt.xlabel('Hour of the Day')\n",
    "plt.ylabel('Fare Amount ($)')\n",
    "plt.title('Fare Amount vs. Hour of the Day')\n",
    "plt.grid(True)\n",
    "plt.show()"
   ]
  },
  {
   "cell_type": "markdown",
   "id": "27ce523c",
   "metadata": {
    "papermill": {
     "duration": 0.019694,
     "end_time": "2024-05-26T11:03:08.681770",
     "exception": false,
     "start_time": "2024-05-26T11:03:08.662076",
     "status": "completed"
    },
    "tags": []
   },
   "source": [
    "ჩემი მოლოდინი, რომ პიკის საათში უმაღლესი წერტილები იქნებოდა არ გამართლდა, რაც უცნაურია.\n",
    "წლებიც ვნახოთ."
   ]
  },
  {
   "cell_type": "code",
   "execution_count": 26,
   "id": "a729a5af",
   "metadata": {
    "execution": {
     "iopub.execute_input": "2024-05-26T11:03:08.724192Z",
     "iopub.status.busy": "2024-05-26T11:03:08.723827Z",
     "iopub.status.idle": "2024-05-26T11:03:33.897865Z",
     "shell.execute_reply": "2024-05-26T11:03:33.896726Z"
    },
    "papermill": {
     "duration": 25.198742,
     "end_time": "2024-05-26T11:03:33.900320",
     "exception": false,
     "start_time": "2024-05-26T11:03:08.701578",
     "status": "completed"
    },
    "tags": []
   },
   "outputs": [
    {
     "data": {
      "image/png": "[encoded data removed]",
      "text/plain": [
       "<Figure size 1000x600 with 1 Axes>"
      ]
     },
     "metadata": {},
     "output_type": "display_data"
    }
   ],
   "source": [
    "plt.figure(figsize=(10, 6))\n",
    "plt.scatter(train_data['Year'], train_data['fare_amount'], alpha=0.5)\n",
    "plt.xlabel('Year')\n",
    "plt.ylabel('Fare Amount ($)')\n",
    "plt.title('Fare Amount vs. Year')\n",
    "plt.grid(True)\n",
    "plt.show()"
   ]
  },
  {
   "cell_type": "markdown",
   "id": "1dc130a7",
   "metadata": {
    "papermill": {
     "duration": 0.01996,
     "end_time": "2024-05-26T11:03:33.940707",
     "exception": false,
     "start_time": "2024-05-26T11:03:33.920747",
     "status": "completed"
    },
    "tags": []
   },
   "source": [
    "ყველაზე თვალსაჩინო მგონი მაინც წლებია: 2009 წლის შემდეგ გადასახადები იზრდება."
   ]
  },
  {
   "cell_type": "markdown",
   "id": "de67bf73",
   "metadata": {
    "papermill": {
     "duration": 0.0197,
     "end_time": "2024-05-26T11:03:33.980480",
     "exception": false,
     "start_time": "2024-05-26T11:03:33.960780",
     "status": "completed"
    },
    "tags": []
   },
   "source": [
    "ვნახოთ თვეებიც:"
   ]
  },
  {
   "cell_type": "code",
   "execution_count": 27,
   "id": "d541227e",
   "metadata": {
    "execution": {
     "iopub.execute_input": "2024-05-26T11:03:34.022095Z",
     "iopub.status.busy": "2024-05-26T11:03:34.021726Z",
     "iopub.status.idle": "2024-05-26T11:03:59.186589Z",
     "shell.execute_reply": "2024-05-26T11:03:59.185253Z"
    },
    "papermill": {
     "duration": 25.188633,
     "end_time": "2024-05-26T11:03:59.189053",
     "exception": false,
     "start_time": "2024-05-26T11:03:34.000420",
     "status": "completed"
    },
    "tags": []
   },
   "outputs": [
    {
     "data": {
      "image/png": "[encoded data removed]",
      "text/plain": [
       "<Figure size 1000x600 with 1 Axes>"
      ]
     },
     "metadata": {},
     "output_type": "display_data"
    }
   ],
   "source": [
    "plt.figure(figsize=(10, 6))\n",
    "plt.scatter(train_data['Month'], train_data['fare_amount'], alpha=0.5)\n",
    "plt.xlabel('Month of the Year')\n",
    "plt.ylabel('Fare Amount ($)')\n",
    "plt.title('Fare Amount vs. Month of the Year')\n",
    "plt.grid(True)\n",
    "plt.show()"
   ]
  },
  {
   "cell_type": "markdown",
   "id": "9541b736",
   "metadata": {
    "papermill": {
     "duration": 0.021229,
     "end_time": "2024-05-26T11:03:59.231653",
     "exception": false,
     "start_time": "2024-05-26T11:03:59.210424",
     "status": "completed"
    },
    "tags": []
   },
   "source": [
    "დავაკვირდეთ დისტანციებს და გადასახადებსაც"
   ]
  },
  {
   "cell_type": "code",
   "execution_count": 28,
   "id": "c276080f",
   "metadata": {
    "execution": {
     "iopub.execute_input": "2024-05-26T11:03:59.276004Z",
     "iopub.status.busy": "2024-05-26T11:03:59.275235Z",
     "iopub.status.idle": "2024-05-26T11:04:24.339932Z",
     "shell.execute_reply": "2024-05-26T11:04:24.338959Z"
    },
    "papermill": {
     "duration": 25.090167,
     "end_time": "2024-05-26T11:04:24.343070",
     "exception": false,
     "start_time": "2024-05-26T11:03:59.252903",
     "status": "completed"
    },
    "tags": []
   },
   "outputs": [
    {
     "data": {
      "image/png": "[encoded data removed]",
      "text/plain": [
       "<Figure size 1000x600 with 1 Axes>"
      ]
     },
     "metadata": {},
     "output_type": "display_data"
    }
   ],
   "source": [
    "plt.figure(figsize=(10, 6))\n",
    "plt.scatter(train_data['distance'], train_data['fare_amount'], alpha=0.5)\n",
    "plt.xlabel('Distance (km)')\n",
    "plt.ylabel('Fare Amount ($)')\n",
    "plt.title('Fare Amount vs. Distance')\n",
    "plt.grid(True)\n",
    "plt.show()"
   ]
  },
  {
   "cell_type": "markdown",
   "id": "1ea9b03f",
   "metadata": {
    "papermill": {
     "duration": 0.022209,
     "end_time": "2024-05-26T11:04:24.388169",
     "exception": false,
     "start_time": "2024-05-26T11:04:24.365960",
     "status": "completed"
    },
    "tags": []
   },
   "source": [
    "არ არის ლოგიკური ის, რომ ხალხმა იმგზავრა და მაინც 3 დოლარზე ნაკლები გადაიხადეს (მინიმალური საფასური 3 დოლარი იყო). ასეთი მონაცემები მოვაშოროთ."
   ]
  },
  {
   "cell_type": "code",
   "execution_count": 29,
   "id": "140654c9",
   "metadata": {
    "execution": {
     "iopub.execute_input": "2024-05-26T11:04:24.435380Z",
     "iopub.status.busy": "2024-05-26T11:04:24.434969Z",
     "iopub.status.idle": "2024-05-26T11:04:24.506383Z",
     "shell.execute_reply": "2024-05-26T11:04:24.505195Z"
    },
    "papermill": {
     "duration": 0.097547,
     "end_time": "2024-05-26T11:04:24.508739",
     "exception": false,
     "start_time": "2024-05-26T11:04:24.411192",
     "status": "completed"
    },
    "tags": []
   },
   "outputs": [
    {
     "data": {
      "text/html": [
       "<div>\n",
       "<style scoped>\n",
       "    .dataframe tbody tr th:only-of-type {\n",
       "        vertical-align: middle;\n",
       "    }\n",
       "\n",
       "    .dataframe tbody tr th {\n",
       "        vertical-align: top;\n",
       "    }\n",
       "\n",
       "    .dataframe thead th {\n",
       "        text-align: right;\n",
       "    }\n",
       "</style>\n",
       "<table border=\"1\" class=\"dataframe\">\n",
       "  <thead>\n",
       "    <tr style=\"text-align: right;\">\n",
       "      <th></th>\n",
       "      <th>key</th>\n",
       "      <th>fare_amount</th>\n",
       "      <th>pickup_datetime</th>\n",
       "      <th>pickup_longitude</th>\n",
       "      <th>pickup_latitude</th>\n",
       "      <th>dropoff_longitude</th>\n",
       "      <th>dropoff_latitude</th>\n",
       "      <th>passenger_count</th>\n",
       "      <th>distance</th>\n",
       "      <th>Year</th>\n",
       "      <th>Month</th>\n",
       "      <th>Day</th>\n",
       "      <th>DayOfWeek</th>\n",
       "      <th>Hour</th>\n",
       "    </tr>\n",
       "  </thead>\n",
       "  <tbody>\n",
       "    <tr>\n",
       "      <th>226</th>\n",
       "      <td>2012-03-29 03:51:00.000000200</td>\n",
       "      <td>2.5</td>\n",
       "      <td>2012-03-29 03:51:00+00:00</td>\n",
       "      <td>-73.989142</td>\n",
       "      <td>40.720105</td>\n",
       "      <td>-73.988777</td>\n",
       "      <td>40.720662</td>\n",
       "      <td>1</td>\n",
       "      <td>0.069154</td>\n",
       "      <td>2012</td>\n",
       "      <td>3</td>\n",
       "      <td>29</td>\n",
       "      <td>3</td>\n",
       "      <td>3</td>\n",
       "    </tr>\n",
       "    <tr>\n",
       "      <th>496</th>\n",
       "      <td>2013-02-15 12:13:00.000000185</td>\n",
       "      <td>3.0</td>\n",
       "      <td>2013-02-15 12:13:00+00:00</td>\n",
       "      <td>-73.994313</td>\n",
       "      <td>40.735362</td>\n",
       "      <td>-73.997212</td>\n",
       "      <td>40.736810</td>\n",
       "      <td>1</td>\n",
       "      <td>0.292549</td>\n",
       "      <td>2013</td>\n",
       "      <td>2</td>\n",
       "      <td>15</td>\n",
       "      <td>4</td>\n",
       "      <td>12</td>\n",
       "    </tr>\n",
       "    <tr>\n",
       "      <th>551</th>\n",
       "      <td>2011-04-22 09:02:09.000000400</td>\n",
       "      <td>2.9</td>\n",
       "      <td>2011-04-22 09:02:09+00:00</td>\n",
       "      <td>-73.964774</td>\n",
       "      <td>40.772788</td>\n",
       "      <td>-73.963266</td>\n",
       "      <td>40.774752</td>\n",
       "      <td>1</td>\n",
       "      <td>0.252622</td>\n",
       "      <td>2011</td>\n",
       "      <td>4</td>\n",
       "      <td>22</td>\n",
       "      <td>4</td>\n",
       "      <td>9</td>\n",
       "    </tr>\n",
       "    <tr>\n",
       "      <th>630</th>\n",
       "      <td>2009-01-10 16:28:00.000000860</td>\n",
       "      <td>2.9</td>\n",
       "      <td>2009-01-10 16:28:00+00:00</td>\n",
       "      <td>-73.977417</td>\n",
       "      <td>40.757653</td>\n",
       "      <td>-73.974607</td>\n",
       "      <td>40.756757</td>\n",
       "      <td>1</td>\n",
       "      <td>0.256796</td>\n",
       "      <td>2009</td>\n",
       "      <td>1</td>\n",
       "      <td>10</td>\n",
       "      <td>5</td>\n",
       "      <td>16</td>\n",
       "    </tr>\n",
       "    <tr>\n",
       "      <th>782</th>\n",
       "      <td>2014-08-25 20:37:22.000000100</td>\n",
       "      <td>3.0</td>\n",
       "      <td>2014-08-25 20:37:22+00:00</td>\n",
       "      <td>-74.007472</td>\n",
       "      <td>40.740880</td>\n",
       "      <td>-74.008959</td>\n",
       "      <td>40.738234</td>\n",
       "      <td>1</td>\n",
       "      <td>0.319784</td>\n",
       "      <td>2014</td>\n",
       "      <td>8</td>\n",
       "      <td>25</td>\n",
       "      <td>0</td>\n",
       "      <td>20</td>\n",
       "    </tr>\n",
       "    <tr>\n",
       "      <th>...</th>\n",
       "      <td>...</td>\n",
       "      <td>...</td>\n",
       "      <td>...</td>\n",
       "      <td>...</td>\n",
       "      <td>...</td>\n",
       "      <td>...</td>\n",
       "      <td>...</td>\n",
       "      <td>...</td>\n",
       "      <td>...</td>\n",
       "      <td>...</td>\n",
       "      <td>...</td>\n",
       "      <td>...</td>\n",
       "      <td>...</td>\n",
       "      <td>...</td>\n",
       "    </tr>\n",
       "    <tr>\n",
       "      <th>9998651</th>\n",
       "      <td>2009-02-24 16:51:00.000000173</td>\n",
       "      <td>2.5</td>\n",
       "      <td>2009-02-24 16:51:00+00:00</td>\n",
       "      <td>-73.776888</td>\n",
       "      <td>40.644987</td>\n",
       "      <td>-73.776808</td>\n",
       "      <td>40.645653</td>\n",
       "      <td>1</td>\n",
       "      <td>0.074363</td>\n",
       "      <td>2009</td>\n",
       "      <td>2</td>\n",
       "      <td>24</td>\n",
       "      <td>1</td>\n",
       "      <td>16</td>\n",
       "    </tr>\n",
       "    <tr>\n",
       "      <th>9998859</th>\n",
       "      <td>2010-06-04 07:57:00.000000129</td>\n",
       "      <td>2.9</td>\n",
       "      <td>2010-06-04 07:57:00+00:00</td>\n",
       "      <td>-73.960817</td>\n",
       "      <td>40.655058</td>\n",
       "      <td>-73.959210</td>\n",
       "      <td>40.656105</td>\n",
       "      <td>2</td>\n",
       "      <td>0.178692</td>\n",
       "      <td>2010</td>\n",
       "      <td>6</td>\n",
       "      <td>4</td>\n",
       "      <td>4</td>\n",
       "      <td>7</td>\n",
       "    </tr>\n",
       "    <tr>\n",
       "      <th>9998952</th>\n",
       "      <td>2014-02-20 20:39:00.000000220</td>\n",
       "      <td>2.5</td>\n",
       "      <td>2014-02-20 20:39:00+00:00</td>\n",
       "      <td>-73.981963</td>\n",
       "      <td>40.769517</td>\n",
       "      <td>-73.982065</td>\n",
       "      <td>40.770792</td>\n",
       "      <td>3</td>\n",
       "      <td>0.142034</td>\n",
       "      <td>2014</td>\n",
       "      <td>2</td>\n",
       "      <td>20</td>\n",
       "      <td>3</td>\n",
       "      <td>20</td>\n",
       "    </tr>\n",
       "    <tr>\n",
       "      <th>9999337</th>\n",
       "      <td>2009-07-25 23:51:00.000000161</td>\n",
       "      <td>2.9</td>\n",
       "      <td>2009-07-25 23:51:00+00:00</td>\n",
       "      <td>-73.957302</td>\n",
       "      <td>40.716258</td>\n",
       "      <td>-73.957522</td>\n",
       "      <td>40.716072</td>\n",
       "      <td>1</td>\n",
       "      <td>0.027777</td>\n",
       "      <td>2009</td>\n",
       "      <td>7</td>\n",
       "      <td>25</td>\n",
       "      <td>5</td>\n",
       "      <td>23</td>\n",
       "    </tr>\n",
       "    <tr>\n",
       "      <th>9999409</th>\n",
       "      <td>2013-04-25 22:01:33.000000200</td>\n",
       "      <td>3.0</td>\n",
       "      <td>2013-04-25 22:01:33+00:00</td>\n",
       "      <td>-73.998571</td>\n",
       "      <td>40.732161</td>\n",
       "      <td>-74.000527</td>\n",
       "      <td>40.733196</td>\n",
       "      <td>1</td>\n",
       "      <td>0.201017</td>\n",
       "      <td>2013</td>\n",
       "      <td>4</td>\n",
       "      <td>25</td>\n",
       "      <td>3</td>\n",
       "      <td>22</td>\n",
       "    </tr>\n",
       "  </tbody>\n",
       "</table>\n",
       "<p>68064 rows × 14 columns</p>\n",
       "</div>"
      ],
      "text/plain": [
       "                                  key  fare_amount           pickup_datetime  \\\n",
       "226     2012-03-29 03:51:00.000000200          2.5 2012-03-29 03:51:00+00:00   \n",
       "496     2013-02-15 12:13:00.000000185          3.0 2013-02-15 12:13:00+00:00   \n",
       "551     2011-04-22 09:02:09.000000400          2.9 2011-04-22 09:02:09+00:00   \n",
       "630     2009-01-10 16:28:00.000000860          2.9 2009-01-10 16:28:00+00:00   \n",
       "782     2014-08-25 20:37:22.000000100          3.0 2014-08-25 20:37:22+00:00   \n",
       "...                               ...          ...                       ...   \n",
       "9998651 2009-02-24 16:51:00.000000173          2.5 2009-02-24 16:51:00+00:00   \n",
       "9998859 2010-06-04 07:57:00.000000129          2.9 2010-06-04 07:57:00+00:00   \n",
       "9998952 2014-02-20 20:39:00.000000220          2.5 2014-02-20 20:39:00+00:00   \n",
       "9999337 2009-07-25 23:51:00.000000161          2.9 2009-07-25 23:51:00+00:00   \n",
       "9999409 2013-04-25 22:01:33.000000200          3.0 2013-04-25 22:01:33+00:00   \n",
       "\n",
       "         pickup_longitude  pickup_latitude  dropoff_longitude  \\\n",
       "226            -73.989142        40.720105         -73.988777   \n",
       "496            -73.994313        40.735362         -73.997212   \n",
       "551            -73.964774        40.772788         -73.963266   \n",
       "630            -73.977417        40.757653         -73.974607   \n",
       "782            -74.007472        40.740880         -74.008959   \n",
       "...                   ...              ...                ...   \n",
       "9998651        -73.776888        40.644987         -73.776808   \n",
       "9998859        -73.960817        40.655058         -73.959210   \n",
       "9998952        -73.981963        40.769517         -73.982065   \n",
       "9999337        -73.957302        40.716258         -73.957522   \n",
       "9999409        -73.998571        40.732161         -74.000527   \n",
       "\n",
       "         dropoff_latitude  passenger_count  distance  Year  Month  Day  \\\n",
       "226             40.720662                1  0.069154  2012      3   29   \n",
       "496             40.736810                1  0.292549  2013      2   15   \n",
       "551             40.774752                1  0.252622  2011      4   22   \n",
       "630             40.756757                1  0.256796  2009      1   10   \n",
       "782             40.738234                1  0.319784  2014      8   25   \n",
       "...                   ...              ...       ...   ...    ...  ...   \n",
       "9998651         40.645653                1  0.074363  2009      2   24   \n",
       "9998859         40.656105                2  0.178692  2010      6    4   \n",
       "9998952         40.770792                3  0.142034  2014      2   20   \n",
       "9999337         40.716072                1  0.027777  2009      7   25   \n",
       "9999409         40.733196                1  0.201017  2013      4   25   \n",
       "\n",
       "         DayOfWeek  Hour  \n",
       "226              3     3  \n",
       "496              4    12  \n",
       "551              4     9  \n",
       "630              5    16  \n",
       "782              0    20  \n",
       "...            ...   ...  \n",
       "9998651          1    16  \n",
       "9998859          4     7  \n",
       "9998952          3    20  \n",
       "9999337          5    23  \n",
       "9999409          3    22  \n",
       "\n",
       "[68064 rows x 14 columns]"
      ]
     },
     "execution_count": 29,
     "metadata": {},
     "output_type": "execute_result"
    }
   ],
   "source": [
    "train_data[(train_data.fare_amount <= 3) & (train_data.distance  > 0)]"
   ]
  },
  {
   "cell_type": "markdown",
   "id": "cd905ce1",
   "metadata": {
    "papermill": {
     "duration": 0.022609,
     "end_time": "2024-05-26T11:04:24.554301",
     "exception": false,
     "start_time": "2024-05-26T11:04:24.531692",
     "status": "completed"
    },
    "tags": []
   },
   "source": [
    "ასეთი მონაცემები არ წავშალოთ (ზედმეტად ბევრია) და (https://www.nyc.gov/site/tlc/passengers/taxi-fare.page#:~:text=%243.00%20initial%20charge.,Dutchess%2C%20Orange%20or%20Putnam%20Counties.) სტატიის მიხედვით გამოვთვალოთ რეალურად რა დაჯდებოდა მგზავრობა (საწყისი ფასი 3 დოლარი და ყოველ 1/5 მილზე +70 ცენტი).\n",
    "1/5 მილი არის 321.869 მეტრი = 0.321869 კილომეტრი"
   ]
  },
  {
   "cell_type": "code",
   "execution_count": 30,
   "id": "15d3962a",
   "metadata": {
    "execution": {
     "iopub.execute_input": "2024-05-26T11:04:24.601835Z",
     "iopub.status.busy": "2024-05-26T11:04:24.601017Z",
     "iopub.status.idle": "2024-05-26T11:04:24.665110Z",
     "shell.execute_reply": "2024-05-26T11:04:24.663821Z"
    },
    "papermill": {
     "duration": 0.090655,
     "end_time": "2024-05-26T11:04:24.667705",
     "exception": false,
     "start_time": "2024-05-26T11:04:24.577050",
     "status": "completed"
    },
    "tags": []
   },
   "outputs": [],
   "source": [
    "distance_per = 0.321869\n",
    "fare_increase_per_mile = 0.7\n",
    "mask = (train_data['fare_amount'] < 3) & (train_data['distance'] > 0)\n",
    "train_data.loc[mask, 'fare_amount'] = 3 + (train_data.loc[mask, 'distance'] / distance_per) * fare_increase_per_mile"
   ]
  },
  {
   "cell_type": "code",
   "execution_count": 31,
   "id": "0355b318",
   "metadata": {
    "execution": {
     "iopub.execute_input": "2024-05-26T11:04:24.715666Z",
     "iopub.status.busy": "2024-05-26T11:04:24.714910Z",
     "iopub.status.idle": "2024-05-26T11:04:25.587491Z",
     "shell.execute_reply": "2024-05-26T11:04:25.586497Z"
    },
    "papermill": {
     "duration": 0.898863,
     "end_time": "2024-05-26T11:04:25.589698",
     "exception": false,
     "start_time": "2024-05-26T11:04:24.690835",
     "status": "completed"
    },
    "tags": []
   },
   "outputs": [
    {
     "data": {
      "text/html": [
       "<div>\n",
       "<style scoped>\n",
       "    .dataframe tbody tr th:only-of-type {\n",
       "        vertical-align: middle;\n",
       "    }\n",
       "\n",
       "    .dataframe tbody tr th {\n",
       "        vertical-align: top;\n",
       "    }\n",
       "\n",
       "    .dataframe thead th {\n",
       "        text-align: right;\n",
       "    }\n",
       "</style>\n",
       "<table border=\"1\" class=\"dataframe\">\n",
       "  <thead>\n",
       "    <tr style=\"text-align: right;\">\n",
       "      <th></th>\n",
       "      <th>key</th>\n",
       "      <th>fare_amount</th>\n",
       "      <th>pickup_datetime</th>\n",
       "      <th>pickup_longitude</th>\n",
       "      <th>pickup_latitude</th>\n",
       "      <th>dropoff_longitude</th>\n",
       "      <th>dropoff_latitude</th>\n",
       "      <th>passenger_count</th>\n",
       "      <th>distance</th>\n",
       "      <th>Year</th>\n",
       "      <th>Month</th>\n",
       "      <th>Day</th>\n",
       "      <th>DayOfWeek</th>\n",
       "      <th>Hour</th>\n",
       "    </tr>\n",
       "  </thead>\n",
       "  <tbody>\n",
       "    <tr>\n",
       "      <th>0</th>\n",
       "      <td>2009-06-15 17:26:21.000000100</td>\n",
       "      <td>4.5</td>\n",
       "      <td>2009-06-15 17:26:21+00:00</td>\n",
       "      <td>-73.844311</td>\n",
       "      <td>40.721319</td>\n",
       "      <td>-73.841610</td>\n",
       "      <td>40.712278</td>\n",
       "      <td>1</td>\n",
       "      <td>1.030764</td>\n",
       "      <td>2009</td>\n",
       "      <td>6</td>\n",
       "      <td>15</td>\n",
       "      <td>0</td>\n",
       "      <td>17</td>\n",
       "    </tr>\n",
       "    <tr>\n",
       "      <th>1</th>\n",
       "      <td>2010-01-05 16:52:16.000000200</td>\n",
       "      <td>16.9</td>\n",
       "      <td>2010-01-05 16:52:16+00:00</td>\n",
       "      <td>-74.016048</td>\n",
       "      <td>40.711303</td>\n",
       "      <td>-73.979268</td>\n",
       "      <td>40.782004</td>\n",
       "      <td>1</td>\n",
       "      <td>8.450134</td>\n",
       "      <td>2010</td>\n",
       "      <td>1</td>\n",
       "      <td>5</td>\n",
       "      <td>1</td>\n",
       "      <td>16</td>\n",
       "    </tr>\n",
       "    <tr>\n",
       "      <th>2</th>\n",
       "      <td>2011-08-18 00:35:00.000000490</td>\n",
       "      <td>5.7</td>\n",
       "      <td>2011-08-18 00:35:00+00:00</td>\n",
       "      <td>-73.982738</td>\n",
       "      <td>40.761270</td>\n",
       "      <td>-73.991242</td>\n",
       "      <td>40.750562</td>\n",
       "      <td>2</td>\n",
       "      <td>1.389525</td>\n",
       "      <td>2011</td>\n",
       "      <td>8</td>\n",
       "      <td>18</td>\n",
       "      <td>3</td>\n",
       "      <td>0</td>\n",
       "    </tr>\n",
       "    <tr>\n",
       "      <th>3</th>\n",
       "      <td>2012-04-21 04:30:42.000000100</td>\n",
       "      <td>7.7</td>\n",
       "      <td>2012-04-21 04:30:42+00:00</td>\n",
       "      <td>-73.987130</td>\n",
       "      <td>40.733143</td>\n",
       "      <td>-73.991567</td>\n",
       "      <td>40.758092</td>\n",
       "      <td>1</td>\n",
       "      <td>2.799270</td>\n",
       "      <td>2012</td>\n",
       "      <td>4</td>\n",
       "      <td>21</td>\n",
       "      <td>5</td>\n",
       "      <td>4</td>\n",
       "    </tr>\n",
       "    <tr>\n",
       "      <th>4</th>\n",
       "      <td>2010-03-09 07:51:00.000000135</td>\n",
       "      <td>5.3</td>\n",
       "      <td>2010-03-09 07:51:00+00:00</td>\n",
       "      <td>-73.968095</td>\n",
       "      <td>40.768008</td>\n",
       "      <td>-73.956655</td>\n",
       "      <td>40.783762</td>\n",
       "      <td>1</td>\n",
       "      <td>1.999157</td>\n",
       "      <td>2010</td>\n",
       "      <td>3</td>\n",
       "      <td>9</td>\n",
       "      <td>1</td>\n",
       "      <td>7</td>\n",
       "    </tr>\n",
       "    <tr>\n",
       "      <th>...</th>\n",
       "      <td>...</td>\n",
       "      <td>...</td>\n",
       "      <td>...</td>\n",
       "      <td>...</td>\n",
       "      <td>...</td>\n",
       "      <td>...</td>\n",
       "      <td>...</td>\n",
       "      <td>...</td>\n",
       "      <td>...</td>\n",
       "      <td>...</td>\n",
       "      <td>...</td>\n",
       "      <td>...</td>\n",
       "      <td>...</td>\n",
       "      <td>...</td>\n",
       "    </tr>\n",
       "    <tr>\n",
       "      <th>9999995</th>\n",
       "      <td>2012-08-12 01:18:00.000000208</td>\n",
       "      <td>5.7</td>\n",
       "      <td>2012-08-12 01:18:00+00:00</td>\n",
       "      <td>-73.999464</td>\n",
       "      <td>40.728452</td>\n",
       "      <td>-73.993299</td>\n",
       "      <td>40.742100</td>\n",
       "      <td>2</td>\n",
       "      <td>1.604023</td>\n",
       "      <td>2012</td>\n",
       "      <td>8</td>\n",
       "      <td>12</td>\n",
       "      <td>6</td>\n",
       "      <td>1</td>\n",
       "    </tr>\n",
       "    <tr>\n",
       "      <th>9999996</th>\n",
       "      <td>2013-08-07 10:28:00.000000147</td>\n",
       "      <td>5.5</td>\n",
       "      <td>2013-08-07 10:28:00+00:00</td>\n",
       "      <td>-73.968467</td>\n",
       "      <td>40.759367</td>\n",
       "      <td>-73.964967</td>\n",
       "      <td>40.769027</td>\n",
       "      <td>1</td>\n",
       "      <td>1.113854</td>\n",
       "      <td>2013</td>\n",
       "      <td>8</td>\n",
       "      <td>7</td>\n",
       "      <td>2</td>\n",
       "      <td>10</td>\n",
       "    </tr>\n",
       "    <tr>\n",
       "      <th>9999997</th>\n",
       "      <td>2013-10-29 08:29:00.000000820</td>\n",
       "      <td>14.0</td>\n",
       "      <td>2013-10-29 08:29:00+00:00</td>\n",
       "      <td>-73.997952</td>\n",
       "      <td>40.733717</td>\n",
       "      <td>-73.973448</td>\n",
       "      <td>40.759122</td>\n",
       "      <td>5</td>\n",
       "      <td>3.498755</td>\n",
       "      <td>2013</td>\n",
       "      <td>10</td>\n",
       "      <td>29</td>\n",
       "      <td>1</td>\n",
       "      <td>8</td>\n",
       "    </tr>\n",
       "    <tr>\n",
       "      <th>9999998</th>\n",
       "      <td>2012-04-07 16:41:33.000000400</td>\n",
       "      <td>10.5</td>\n",
       "      <td>2012-04-07 16:41:33+00:00</td>\n",
       "      <td>-73.992700</td>\n",
       "      <td>40.752021</td>\n",
       "      <td>-73.964705</td>\n",
       "      <td>40.772849</td>\n",
       "      <td>1</td>\n",
       "      <td>3.304974</td>\n",
       "      <td>2012</td>\n",
       "      <td>4</td>\n",
       "      <td>7</td>\n",
       "      <td>5</td>\n",
       "      <td>16</td>\n",
       "    </tr>\n",
       "    <tr>\n",
       "      <th>9999999</th>\n",
       "      <td>2010-03-30 19:27:00.000000660</td>\n",
       "      <td>8.5</td>\n",
       "      <td>2010-03-30 19:27:00+00:00</td>\n",
       "      <td>-73.965390</td>\n",
       "      <td>40.768572</td>\n",
       "      <td>-73.998188</td>\n",
       "      <td>40.761073</td>\n",
       "      <td>1</td>\n",
       "      <td>2.885319</td>\n",
       "      <td>2010</td>\n",
       "      <td>3</td>\n",
       "      <td>30</td>\n",
       "      <td>1</td>\n",
       "      <td>19</td>\n",
       "    </tr>\n",
       "  </tbody>\n",
       "</table>\n",
       "<p>9684333 rows × 14 columns</p>\n",
       "</div>"
      ],
      "text/plain": [
       "                                  key  fare_amount           pickup_datetime  \\\n",
       "0       2009-06-15 17:26:21.000000100          4.5 2009-06-15 17:26:21+00:00   \n",
       "1       2010-01-05 16:52:16.000000200         16.9 2010-01-05 16:52:16+00:00   \n",
       "2       2011-08-18 00:35:00.000000490          5.7 2011-08-18 00:35:00+00:00   \n",
       "3       2012-04-21 04:30:42.000000100          7.7 2012-04-21 04:30:42+00:00   \n",
       "4       2010-03-09 07:51:00.000000135          5.3 2010-03-09 07:51:00+00:00   \n",
       "...                               ...          ...                       ...   \n",
       "9999995 2012-08-12 01:18:00.000000208          5.7 2012-08-12 01:18:00+00:00   \n",
       "9999996 2013-08-07 10:28:00.000000147          5.5 2013-08-07 10:28:00+00:00   \n",
       "9999997 2013-10-29 08:29:00.000000820         14.0 2013-10-29 08:29:00+00:00   \n",
       "9999998 2012-04-07 16:41:33.000000400         10.5 2012-04-07 16:41:33+00:00   \n",
       "9999999 2010-03-30 19:27:00.000000660          8.5 2010-03-30 19:27:00+00:00   \n",
       "\n",
       "         pickup_longitude  pickup_latitude  dropoff_longitude  \\\n",
       "0              -73.844311        40.721319         -73.841610   \n",
       "1              -74.016048        40.711303         -73.979268   \n",
       "2              -73.982738        40.761270         -73.991242   \n",
       "3              -73.987130        40.733143         -73.991567   \n",
       "4              -73.968095        40.768008         -73.956655   \n",
       "...                   ...              ...                ...   \n",
       "9999995        -73.999464        40.728452         -73.993299   \n",
       "9999996        -73.968467        40.759367         -73.964967   \n",
       "9999997        -73.997952        40.733717         -73.973448   \n",
       "9999998        -73.992700        40.752021         -73.964705   \n",
       "9999999        -73.965390        40.768572         -73.998188   \n",
       "\n",
       "         dropoff_latitude  passenger_count  distance  Year  Month  Day  \\\n",
       "0               40.712278                1  1.030764  2009      6   15   \n",
       "1               40.782004                1  8.450134  2010      1    5   \n",
       "2               40.750562                2  1.389525  2011      8   18   \n",
       "3               40.758092                1  2.799270  2012      4   21   \n",
       "4               40.783762                1  1.999157  2010      3    9   \n",
       "...                   ...              ...       ...   ...    ...  ...   \n",
       "9999995         40.742100                2  1.604023  2012      8   12   \n",
       "9999996         40.769027                1  1.113854  2013      8    7   \n",
       "9999997         40.759122                5  3.498755  2013     10   29   \n",
       "9999998         40.772849                1  3.304974  2012      4    7   \n",
       "9999999         40.761073                1  2.885319  2010      3   30   \n",
       "\n",
       "         DayOfWeek  Hour  \n",
       "0                0    17  \n",
       "1                1    16  \n",
       "2                3     0  \n",
       "3                5     4  \n",
       "4                1     7  \n",
       "...            ...   ...  \n",
       "9999995          6     1  \n",
       "9999996          2    10  \n",
       "9999997          1     8  \n",
       "9999998          5    16  \n",
       "9999999          1    19  \n",
       "\n",
       "[9684333 rows x 14 columns]"
      ]
     },
     "execution_count": 31,
     "metadata": {},
     "output_type": "execute_result"
    }
   ],
   "source": [
    "train_data[(train_data.distance > 0)]"
   ]
  },
  {
   "cell_type": "markdown",
   "id": "6a9c64b8",
   "metadata": {
    "papermill": {
     "duration": 0.024925,
     "end_time": "2024-05-26T11:04:25.638255",
     "exception": false,
     "start_time": "2024-05-26T11:04:25.613330",
     "status": "completed"
    },
    "tags": []
   },
   "source": [
    "ნახაზს თუ დავაკვირდებით კიდევ რამდენიმე არალოგიკურ ფაქტორს შევამჩნევთ. მაგალითად, თუ დავაკვირდებით, 200 კილომეტრზე მეტი ვინც გაიარა მაქსიმუმ 50 დოლარზე მეტი არ გადაუხდია, რაც აფსურდია. ეს მონაცემებიც ანალოგიურად ჩავანაცვლოთ."
   ]
  },
  {
   "cell_type": "code",
   "execution_count": 32,
   "id": "5f9b874d",
   "metadata": {
    "execution": {
     "iopub.execute_input": "2024-05-26T11:04:25.689471Z",
     "iopub.status.busy": "2024-05-26T11:04:25.688392Z",
     "iopub.status.idle": "2024-05-26T11:04:50.764785Z",
     "shell.execute_reply": "2024-05-26T11:04:50.763718Z"
    },
    "papermill": {
     "duration": 25.104203,
     "end_time": "2024-05-26T11:04:50.767378",
     "exception": false,
     "start_time": "2024-05-26T11:04:25.663175",
     "status": "completed"
    },
    "tags": []
   },
   "outputs": [
    {
     "data": {
      "image/png": "[encoded data removed]",
      "text/plain": [
       "<Figure size 1000x600 with 1 Axes>"
      ]
     },
     "metadata": {},
     "output_type": "display_data"
    }
   ],
   "source": [
    "plt.figure(figsize=(10, 6))\n",
    "plt.scatter(train_data['distance'], train_data['fare_amount'], alpha=0.5)\n",
    "plt.xlabel('Distance (km)')\n",
    "plt.ylabel('Fare Amount ($)')\n",
    "plt.title('Fare Amount vs. Distance')\n",
    "plt.grid(True)\n",
    "plt.show()"
   ]
  },
  {
   "cell_type": "markdown",
   "id": "08a6d1df",
   "metadata": {
    "papermill": {
     "duration": 0.02473,
     "end_time": "2024-05-26T11:04:50.821245",
     "exception": false,
     "start_time": "2024-05-26T11:04:50.796515",
     "status": "completed"
    },
    "tags": []
   },
   "source": [
    "პირველ რიგში წრფივი რეგრესიის მოდელი ავაგოთ."
   ]
  },
  {
   "cell_type": "code",
   "execution_count": 33,
   "id": "c234090b",
   "metadata": {
    "execution": {
     "iopub.execute_input": "2024-05-26T11:04:50.873277Z",
     "iopub.status.busy": "2024-05-26T11:04:50.872822Z",
     "iopub.status.idle": "2024-05-26T11:05:01.618091Z",
     "shell.execute_reply": "2024-05-26T11:05:01.614516Z"
    },
    "papermill": {
     "duration": 10.774862,
     "end_time": "2024-05-26T11:05:01.621350",
     "exception": false,
     "start_time": "2024-05-26T11:04:50.846488",
     "status": "completed"
    },
    "tags": []
   },
   "outputs": [
    {
     "name": "stdout",
     "output_type": "stream",
     "text": [
      "Train Root Mean Squared Error: 5.016702066697223\n",
      "Test Root Mean Squared Error: 4.937205415845298\n"
     ]
    }
   ],
   "source": [
    "from sklearn.model_selection import train_test_split\n",
    "from sklearn.linear_model import LinearRegression\n",
    "from sklearn.metrics import mean_squared_error\n",
    "\n",
    "X = train_data.drop(['key','fare_amount','pickup_datetime'], axis=1)\n",
    "y = train_data['fare_amount']\n",
    "\n",
    "# Splitting the data into training and testing sets (80% train, 20% test)\n",
    "X_train, X_test, y_train, y_test = train_test_split(X, y, test_size = 0.2)\n",
    "\n",
    "LR = LinearRegression()\n",
    "LR.fit(X_train, y_train)\n",
    "\n",
    "y_train_pred = LR.predict(X_train)\n",
    "\n",
    "mse_train = mean_squared_error(y_train, y_train_pred)\n",
    "rmse_train = np.sqrt(mse_train)\n",
    "\n",
    "y_test_pred = LR.predict(X_test)\n",
    "\n",
    "mse_test = mean_squared_error(y_test, y_test_pred)\n",
    "rmse_test = np.sqrt(mse_test)\n",
    "\n",
    "print(\"Train Root Mean Squared Error:\", rmse_train)\n",
    "print(\"Test Root Mean Squared Error:\", rmse_test)"
   ]
  },
  {
   "cell_type": "markdown",
   "id": "ddf35a91",
   "metadata": {
    "papermill": {
     "duration": 0.042591,
     "end_time": "2024-05-26T11:05:01.707564",
     "exception": false,
     "start_time": "2024-05-26T11:05:01.664973",
     "status": "completed"
    },
    "tags": []
   },
   "source": [
    "შედეგები ერთმანეთს თითქმის დაემთხვა, რაც კარგია. სავარაუდოდ, ოვერფიტზე არ ვართ გასული. შედეგიც ნორმალურია, რახან უბრალო წრფივ რეგრესიას ვიყენებთ."
   ]
  },
  {
   "cell_type": "code",
   "execution_count": 34,
   "id": "a6842f13",
   "metadata": {
    "execution": {
     "iopub.execute_input": "2024-05-26T11:05:01.763158Z",
     "iopub.status.busy": "2024-05-26T11:05:01.762356Z",
     "iopub.status.idle": "2024-05-26T11:05:31.446440Z",
     "shell.execute_reply": "2024-05-26T11:05:31.445353Z"
    },
    "papermill": {
     "duration": 29.713637,
     "end_time": "2024-05-26T11:05:31.449315",
     "exception": false,
     "start_time": "2024-05-26T11:05:01.735678",
     "status": "completed"
    },
    "tags": []
   },
   "outputs": [
    {
     "data": {
      "image/png": "[encoded data removed]",
      "text/plain": [
       "<Figure size 1000x600 with 1 Axes>"
      ]
     },
     "metadata": {},
     "output_type": "display_data"
    },
    {
     "data": {
      "image/png": "[encoded data removed]",
      "text/plain": [
       "<Figure size 1000x600 with 1 Axes>"
      ]
     },
     "metadata": {},
     "output_type": "display_data"
    }
   ],
   "source": [
    "plt.figure(figsize=(10, 6))\n",
    "plt.scatter(y_train, y_train_pred, color='blue', alpha=0.5)\n",
    "plt.plot([min(y_train), max(y_train)], [min(y_train), max(y_train)], color='red', linestyle='--')\n",
    "plt.xlabel('Actual Fare Amount ($)')\n",
    "plt.ylabel('Predicted Fare Amount ($)')\n",
    "plt.title('Actual vs Predicted Fare Amounts (Training Set)')\n",
    "plt.grid(True)\n",
    "plt.show()\n",
    "\n",
    "plt.figure(figsize=(10, 6))\n",
    "plt.scatter(y_test, y_test_pred, color='green', alpha=0.5)\n",
    "plt.plot([min(y_test), max(y_test)], [min(y_test), max(y_test)], color='red', linestyle='--')\n",
    "plt.xlabel('Actual Fare Amount ($)')\n",
    "plt.ylabel('Predicted Fare Amount ($)')\n",
    "plt.title('Actual vs Predicted Fare Amounts (Testing Set)')\n",
    "plt.grid(True)\n",
    "plt.show()"
   ]
  },
  {
   "cell_type": "markdown",
   "id": "c5f1e324",
   "metadata": {
    "papermill": {
     "duration": 0.027874,
     "end_time": "2024-05-26T11:05:31.505295",
     "exception": false,
     "start_time": "2024-05-26T11:05:31.477421",
     "status": "completed"
    },
    "tags": []
   },
   "source": [
    "ნახაზი დიდად ლამაზი არაა, მაგრამ წრფივი რეგრესიის მოდელისგან დიდი მოლოდინი არც მქონია..."
   ]
  },
  {
   "cell_type": "markdown",
   "id": "151b99ce",
   "metadata": {
    "papermill": {
     "duration": 0.026996,
     "end_time": "2024-05-26T11:05:31.559810",
     "exception": false,
     "start_time": "2024-05-26T11:05:31.532814",
     "status": "completed"
    },
    "tags": []
   },
   "source": [
    " უფრო სწორი ვარაუდები რომ მივიღოთ, გამოვიყენოთ უკეთესი მოდელი, რომლის დატუნვაც შეგვეძლება, როგორიცაა, მაგალითად, XGBoost. მოდი ჯერ უბრალო პარამეტრებზე ვნახოთ რას მივიღებთ. XGBoost-ის საშუალებით შევძლებთ სხვადასხვა ტიპის მონაცემთა დამუშავებას და მოდელის ეფექტურობის უზრუნველყოფას."
   ]
  },
  {
   "cell_type": "code",
   "execution_count": 35,
   "id": "c1207e3c",
   "metadata": {
    "execution": {
     "iopub.execute_input": "2024-05-26T11:05:31.617921Z",
     "iopub.status.busy": "2024-05-26T11:05:31.617523Z",
     "iopub.status.idle": "2024-05-26T11:06:59.041658Z",
     "shell.execute_reply": "2024-05-26T11:06:59.040127Z"
    },
    "papermill": {
     "duration": 87.455972,
     "end_time": "2024-05-26T11:06:59.044040",
     "exception": false,
     "start_time": "2024-05-26T11:05:31.588068",
     "status": "completed"
    },
    "tags": []
   },
   "outputs": [
    {
     "name": "stdout",
     "output_type": "stream",
     "text": [
      "[0]\ttrain-rmse:7.37663\ttest-rmse:7.34605\n",
      "[10]\ttrain-rmse:3.85683\ttest-rmse:3.79477\n",
      "[20]\ttrain-rmse:3.73058\ttest-rmse:3.67064\n",
      "[30]\ttrain-rmse:3.66423\ttest-rmse:3.61122\n",
      "[40]\ttrain-rmse:3.62186\ttest-rmse:3.57663\n",
      "[50]\ttrain-rmse:3.58218\ttest-rmse:3.54438\n",
      "[60]\ttrain-rmse:3.54881\ttest-rmse:3.51949\n",
      "[70]\ttrain-rmse:3.52330\ttest-rmse:3.50173\n",
      "[80]\ttrain-rmse:3.50062\ttest-rmse:3.48697\n",
      "[90]\ttrain-rmse:3.48317\ttest-rmse:3.47667\n",
      "[99]\ttrain-rmse:3.46974\ttest-rmse:3.46766\n",
      "Minimum RMSE on training set: 3.4697355165079813\n",
      "Minimum RMSE on test set: 3.4676593159031226\n"
     ]
    }
   ],
   "source": [
    "import xgboost as xgb\n",
    "\n",
    "def XGBoost(X_train, X_test, y_train, y_test, xgb_params, boost_rounds):\n",
    "    dtrain = xgb.DMatrix(X_train, label=y_train)\n",
    "    dtest = xgb.DMatrix(X_test, label=y_test)\n",
    "    evals = [(dtrain, 'train'), (dtest, 'test')]\n",
    "    evals_result = {}\n",
    "\n",
    "    xgb_model = xgb.train(params=xgb_params, dtrain=dtrain, num_boost_round=boost_rounds,\n",
    "                          early_stopping_rounds=30, evals=evals, evals_result=evals_result, verbose_eval=10)\n",
    "\n",
    "    min_rmse_train = min(evals_result['train']['rmse'])\n",
    "    min_rmse_test = min(evals_result['test']['rmse'])\n",
    "\n",
    "    print(f\"Minimum RMSE on training set: {min_rmse_train}\")\n",
    "    print(f\"Minimum RMSE on test set: {min_rmse_test}\")\n",
    "\n",
    "    return xgb_model\n",
    "\n",
    "xgb_params = {'objective': 'reg:squarederror', 'eval_metric': 'rmse'}\n",
    "xgbm = XGBoost(X_train, X_test, y_train, y_test, xgb_params, 100)"
   ]
  },
  {
   "cell_type": "markdown",
   "id": "d26ccacd",
   "metadata": {
    "papermill": {
     "duration": 0.028392,
     "end_time": "2024-05-26T11:06:59.101806",
     "exception": false,
     "start_time": "2024-05-26T11:06:59.073414",
     "status": "completed"
    },
    "tags": []
   },
   "source": [
    "max_depth პარამეტრი დეფოლტად 6-ია. მოდი გაზრდა ვცადოთ. ხის სიღრმის გაზრდა უფრო კომპლექსურს გახდის ხეს (თუმცაღა იმის ხარჯზე, რომ უფრო მეტ დეტალს აკვირდება მოდელი), თუმცა საშიშია ოვერფიტინგის თვალსაზრისით. n_estimators პარამეტრს შევამცირებ, რადგან ძალიან დიდ დროს წაიღებს..."
   ]
  },
  {
   "cell_type": "code",
   "execution_count": 36,
   "id": "35bae794",
   "metadata": {
    "execution": {
     "iopub.execute_input": "2024-05-26T11:06:59.161086Z",
     "iopub.status.busy": "2024-05-26T11:06:59.160170Z",
     "iopub.status.idle": "2024-05-26T11:10:58.368357Z",
     "shell.execute_reply": "2024-05-26T11:10:58.367162Z"
    },
    "papermill": {
     "duration": 239.240178,
     "end_time": "2024-05-26T11:10:58.370698",
     "exception": false,
     "start_time": "2024-05-26T11:06:59.130520",
     "status": "completed"
    },
    "tags": []
   },
   "outputs": [
    {
     "name": "stdout",
     "output_type": "stream",
     "text": [
      "[0]\ttrain-rmse:7.07379\ttest-rmse:7.21585\n",
      "[10]\ttrain-rmse:1.37533\ttest-rmse:3.67529\n",
      "[19]\ttrain-rmse:0.91834\ttest-rmse:3.68093\n",
      "Minimum RMSE on training set: 0.9183422172132806\n",
      "Minimum RMSE on test set: 3.6743971015472754\n"
     ]
    }
   ],
   "source": [
    "xgb_params = {'objective': 'reg:squarederror', 'eval_metric': 'rmse'}\n",
    "xgb_params['max_depth'] = 25\n",
    "xgbm = XGBoost(X_train, X_test, y_train, y_test, xgb_params, 20)"
   ]
  },
  {
   "cell_type": "markdown",
   "id": "01e43e24",
   "metadata": {
    "papermill": {
     "duration": 0.028088,
     "end_time": "2024-05-26T11:10:58.427325",
     "exception": false,
     "start_time": "2024-05-26T11:10:58.399237",
     "status": "completed"
    },
    "tags": []
   },
   "source": [
    "მართლაც, კარგად გამოჩნდა, რომ ოვერფიტინგთან გვაქვს საქმე. მოდი შედარებით ნაკლებად გავზარდოთ ხის სიღრმე."
   ]
  },
  {
   "cell_type": "code",
   "execution_count": 37,
   "id": "8e6acb65",
   "metadata": {
    "execution": {
     "iopub.execute_input": "2024-05-26T11:10:58.486431Z",
     "iopub.status.busy": "2024-05-26T11:10:58.486046Z",
     "iopub.status.idle": "2024-05-26T11:12:38.880822Z",
     "shell.execute_reply": "2024-05-26T11:12:38.878893Z"
    },
    "papermill": {
     "duration": 100.427739,
     "end_time": "2024-05-26T11:12:38.883464",
     "exception": false,
     "start_time": "2024-05-26T11:10:58.455725",
     "status": "completed"
    },
    "tags": []
   },
   "outputs": [
    {
     "name": "stdout",
     "output_type": "stream",
     "text": [
      "[0]\ttrain-rmse:7.31434\ttest-rmse:7.28578\n",
      "[10]\ttrain-rmse:3.68747\ttest-rmse:3.64451\n",
      "[20]\ttrain-rmse:3.53819\ttest-rmse:3.53807\n",
      "[30]\ttrain-rmse:3.46002\ttest-rmse:3.49531\n",
      "[40]\ttrain-rmse:3.38925\ttest-rmse:3.46294\n",
      "[50]\ttrain-rmse:3.34003\ttest-rmse:3.44154\n",
      "[60]\ttrain-rmse:3.29710\ttest-rmse:3.42808\n",
      "[70]\ttrain-rmse:3.26088\ttest-rmse:3.42323\n",
      "[80]\ttrain-rmse:3.23104\ttest-rmse:3.41608\n",
      "[90]\ttrain-rmse:3.20343\ttest-rmse:3.41041\n",
      "[99]\ttrain-rmse:3.18212\ttest-rmse:3.40633\n",
      "Minimum RMSE on training set: 3.182124435717808\n",
      "Minimum RMSE on test set: 3.406326875058526\n"
     ]
    }
   ],
   "source": [
    "xgb_params = {'objective': 'reg:squarederror', 'eval_metric': 'rmse'}\n",
    "xgb_params['max_depth'] = 8\n",
    "xgbm = XGBoost(X_train, X_test, y_train, y_test, xgb_params, 100)"
   ]
  },
  {
   "cell_type": "markdown",
   "id": "d915a09d",
   "metadata": {
    "papermill": {
     "duration": 0.029411,
     "end_time": "2024-05-26T11:12:38.942401",
     "exception": false,
     "start_time": "2024-05-26T11:12:38.912990",
     "status": "completed"
    },
    "tags": []
   },
   "source": [
    "rmse შემცირდა, თუმცა 0.3 არაა პატარა განსხვავება. აქაც ოვერფიტინგია. მოდი დეფოლტ მნიშვნელობაზე ნაკლებიც ავიღოთ და ვნახოთ რა ხდება."
   ]
  },
  {
   "cell_type": "code",
   "execution_count": 38,
   "id": "fb2ee8b2",
   "metadata": {
    "execution": {
     "iopub.execute_input": "2024-05-26T11:12:39.004728Z",
     "iopub.status.busy": "2024-05-26T11:12:39.004251Z",
     "iopub.status.idle": "2024-05-26T11:13:54.347089Z",
     "shell.execute_reply": "2024-05-26T11:13:54.345766Z"
    },
    "papermill": {
     "duration": 75.376385,
     "end_time": "2024-05-26T11:13:54.349492",
     "exception": false,
     "start_time": "2024-05-26T11:12:38.973107",
     "status": "completed"
    },
    "tags": []
   },
   "outputs": [
    {
     "name": "stdout",
     "output_type": "stream",
     "text": [
      "[0]\ttrain-rmse:7.50047\ttest-rmse:7.46838\n",
      "[10]\ttrain-rmse:4.03074\ttest-rmse:3.97016\n",
      "[20]\ttrain-rmse:3.88530\ttest-rmse:3.81994\n",
      "[30]\ttrain-rmse:3.83265\ttest-rmse:3.76752\n",
      "[40]\ttrain-rmse:3.79179\ttest-rmse:3.72408\n",
      "[50]\ttrain-rmse:3.76650\ttest-rmse:3.69838\n",
      "[60]\ttrain-rmse:3.74127\ttest-rmse:3.67248\n",
      "[70]\ttrain-rmse:3.72704\ttest-rmse:3.65796\n",
      "[80]\ttrain-rmse:3.71319\ttest-rmse:3.64359\n",
      "[90]\ttrain-rmse:3.69486\ttest-rmse:3.62590\n",
      "[99]\ttrain-rmse:3.68301\ttest-rmse:3.61448\n",
      "Minimum RMSE on training set: 3.6830114479710825\n",
      "Minimum RMSE on test set: 3.6144817218279868\n"
     ]
    }
   ],
   "source": [
    "xgb_params = {'objective': 'reg:squarederror', 'eval_metric': 'rmse'}\n",
    "xgb_params['max_depth'] = 4\n",
    "xgbm = XGBoost(X_train, X_test, y_train, y_test, xgb_params, 100)"
   ]
  },
  {
   "cell_type": "markdown",
   "id": "5b07a294",
   "metadata": {
    "papermill": {
     "duration": 0.029188,
     "end_time": "2024-05-26T11:13:54.408653",
     "exception": false,
     "start_time": "2024-05-26T11:13:54.379465",
     "status": "completed"
    },
    "tags": []
   },
   "source": [
    "ოვერფიტი შემცირდა, თუმცა ცდომილების გაზრდის ხარჯზე."
   ]
  },
  {
   "cell_type": "markdown",
   "id": "61de1d0b",
   "metadata": {
    "papermill": {
     "duration": 0.029428,
     "end_time": "2024-05-26T11:13:54.468252",
     "exception": false,
     "start_time": "2024-05-26T11:13:54.438824",
     "status": "completed"
    },
    "tags": []
   },
   "source": [
    "ვცადოთ learning rate-ის გაზრდაც (დეფოლტ მნიშვნელობა 0.1 იყო), რაც სავარაუდოდ შეგვიმცირებს ოვერფიტინგს:"
   ]
  },
  {
   "cell_type": "code",
   "execution_count": 39,
   "id": "c5d8eb45",
   "metadata": {
    "execution": {
     "iopub.execute_input": "2024-05-26T11:13:54.529142Z",
     "iopub.status.busy": "2024-05-26T11:13:54.528762Z",
     "iopub.status.idle": "2024-05-26T11:17:12.613371Z",
     "shell.execute_reply": "2024-05-26T11:17:12.611853Z"
    },
    "papermill": {
     "duration": 198.118037,
     "end_time": "2024-05-26T11:17:12.615834",
     "exception": false,
     "start_time": "2024-05-26T11:13:54.497797",
     "status": "completed"
    },
    "tags": []
   },
   "outputs": [
    {
     "name": "stdout",
     "output_type": "stream",
     "text": [
      "[0]\ttrain-rmse:9.23356\ttest-rmse:9.21083\n",
      "[10]\ttrain-rmse:6.36480\ttest-rmse:6.33214\n",
      "[20]\ttrain-rmse:4.91406\ttest-rmse:4.87426\n",
      "[30]\ttrain-rmse:4.24597\ttest-rmse:4.20375\n",
      "[40]\ttrain-rmse:3.94876\ttest-rmse:3.90582\n",
      "[50]\ttrain-rmse:3.80787\ttest-rmse:3.76686\n",
      "[60]\ttrain-rmse:3.73106\ttest-rmse:3.69257\n",
      "[70]\ttrain-rmse:3.68240\ttest-rmse:3.64692\n",
      "[80]\ttrain-rmse:3.64947\ttest-rmse:3.61940\n",
      "[90]\ttrain-rmse:3.62096\ttest-rmse:3.59545\n",
      "[100]\ttrain-rmse:3.59492\ttest-rmse:3.57447\n",
      "[110]\ttrain-rmse:3.57474\ttest-rmse:3.56136\n",
      "[120]\ttrain-rmse:3.55539\ttest-rmse:3.54925\n",
      "[130]\ttrain-rmse:3.53806\ttest-rmse:3.53939\n",
      "[140]\ttrain-rmse:3.51926\ttest-rmse:3.52653\n",
      "[150]\ttrain-rmse:3.50396\ttest-rmse:3.51638\n",
      "[160]\ttrain-rmse:3.49064\ttest-rmse:3.50943\n",
      "[170]\ttrain-rmse:3.47733\ttest-rmse:3.50230\n",
      "[180]\ttrain-rmse:3.46448\ttest-rmse:3.49607\n",
      "[190]\ttrain-rmse:3.45011\ttest-rmse:3.48759\n",
      "[199]\ttrain-rmse:3.43982\ttest-rmse:3.48239\n",
      "Minimum RMSE on training set: 3.439817374300981\n",
      "Minimum RMSE on test set: 3.4823912703345847\n"
     ]
    }
   ],
   "source": [
    "xgb_params = {'objective': 'reg:squarederror', 'eval_metric': 'rmse'}\n",
    "xgb_params['max_depth'] = 8\n",
    "xgb_params['learning_rate'] = 0.05\n",
    "xgbm = XGBoost(X_train, X_test, y_train, y_test, xgb_params, 200)"
   ]
  },
  {
   "cell_type": "markdown",
   "id": "e62560b2",
   "metadata": {
    "papermill": {
     "duration": 0.030625,
     "end_time": "2024-05-26T11:17:12.677654",
     "exception": false,
     "start_time": "2024-05-26T11:17:12.647029",
     "status": "completed"
    },
    "tags": []
   },
   "source": [
    "გამოდის, რომ ყველაზე კარგი შედეგი მაინც დეფოლტ მნიშვნელობებმა მოგვცა."
   ]
  },
  {
   "cell_type": "markdown",
   "id": "09da58a1",
   "metadata": {
    "papermill": {
     "duration": 0.030556,
     "end_time": "2024-05-26T11:17:12.739243",
     "exception": false,
     "start_time": "2024-05-26T11:17:12.708687",
     "status": "completed"
    },
    "tags": []
   },
   "source": [
    "ერთიც ვცადოთ დეფოლტ მნიშვნელობებით, თუმცა learning rate-ის შემცირებით. n_estimators გავზრდი ამ შემთხვევაში რათა დავინახოთ, რომ კარგ შედეგზე დიდ დროში ესეც გადის."
   ]
  },
  {
   "cell_type": "code",
   "execution_count": 40,
   "id": "1f6785f0",
   "metadata": {
    "execution": {
     "iopub.execute_input": "2024-05-26T11:17:12.803191Z",
     "iopub.status.busy": "2024-05-26T11:17:12.802253Z",
     "iopub.status.idle": "2024-05-26T11:21:32.444949Z",
     "shell.execute_reply": "2024-05-26T11:21:32.443906Z"
    },
    "papermill": {
     "duration": 259.677546,
     "end_time": "2024-05-26T11:21:32.447621",
     "exception": false,
     "start_time": "2024-05-26T11:17:12.770075",
     "status": "completed"
    },
    "tags": []
   },
   "outputs": [
    {
     "name": "stdout",
     "output_type": "stream",
     "text": [
      "[0]\ttrain-rmse:9.24301\ttest-rmse:9.21999\n",
      "[10]\ttrain-rmse:6.44762\ttest-rmse:6.41323\n",
      "[20]\ttrain-rmse:5.04186\ttest-rmse:4.99712\n",
      "[30]\ttrain-rmse:4.38898\ttest-rmse:4.33716\n",
      "[40]\ttrain-rmse:4.09570\ttest-rmse:4.03920\n",
      "[50]\ttrain-rmse:3.95248\ttest-rmse:3.89281\n",
      "[60]\ttrain-rmse:3.87998\ttest-rmse:3.82019\n",
      "[70]\ttrain-rmse:3.83574\ttest-rmse:3.77619\n",
      "[80]\ttrain-rmse:3.79584\ttest-rmse:3.73474\n",
      "[90]\ttrain-rmse:3.76646\ttest-rmse:3.70493\n",
      "[100]\ttrain-rmse:3.74758\ttest-rmse:3.68716\n",
      "[110]\ttrain-rmse:3.73325\ttest-rmse:3.67449\n",
      "[120]\ttrain-rmse:3.71897\ttest-rmse:3.66135\n",
      "[130]\ttrain-rmse:3.70629\ttest-rmse:3.64978\n",
      "[140]\ttrain-rmse:3.69506\ttest-rmse:3.63937\n",
      "[150]\ttrain-rmse:3.68483\ttest-rmse:3.62991\n",
      "[160]\ttrain-rmse:3.67674\ttest-rmse:3.62264\n",
      "[170]\ttrain-rmse:3.66854\ttest-rmse:3.61521\n",
      "[180]\ttrain-rmse:3.65895\ttest-rmse:3.60690\n",
      "[190]\ttrain-rmse:3.64949\ttest-rmse:3.59820\n",
      "[200]\ttrain-rmse:3.64038\ttest-rmse:3.59022\n",
      "[210]\ttrain-rmse:3.63323\ttest-rmse:3.58408\n",
      "[220]\ttrain-rmse:3.62533\ttest-rmse:3.57707\n",
      "[230]\ttrain-rmse:3.61953\ttest-rmse:3.57258\n",
      "[240]\ttrain-rmse:3.61147\ttest-rmse:3.56571\n",
      "[250]\ttrain-rmse:3.60567\ttest-rmse:3.56091\n",
      "[260]\ttrain-rmse:3.59934\ttest-rmse:3.55566\n",
      "[270]\ttrain-rmse:3.59178\ttest-rmse:3.54944\n",
      "[280]\ttrain-rmse:3.58574\ttest-rmse:3.54535\n",
      "[290]\ttrain-rmse:3.57986\ttest-rmse:3.54024\n",
      "[299]\ttrain-rmse:3.57600\ttest-rmse:3.53778\n",
      "Minimum RMSE on training set: 3.575999722145717\n",
      "Minimum RMSE on test set: 3.53777966783328\n"
     ]
    }
   ],
   "source": [
    "xgb_params = {'objective': 'reg:squarederror', 'eval_metric': 'rmse'}\n",
    "xgb_params['learning_rate'] = 0.05\n",
    "xgbm = XGBoost(X_train, X_test, y_train, y_test, xgb_params, 300)"
   ]
  },
  {
   "cell_type": "markdown",
   "id": "cb19a73d",
   "metadata": {
    "papermill": {
     "duration": 0.032755,
     "end_time": "2024-05-26T11:21:32.514417",
     "exception": false,
     "start_time": "2024-05-26T11:21:32.481662",
     "status": "completed"
    },
    "tags": []
   },
   "source": [
    "აქაც კარგი შედეგი მივიღეთ, სხვაობა ტესტის და ტრენინგის rmse-ებს შორის მცირეა.\n",
    "მოდი მაინც დეფოლტ მოდელს გამოვიყენებ მეტი n_estimators პარამეტრით საბმიშენისთვის, რახან rmse ნაკლებია."
   ]
  },
  {
   "cell_type": "code",
   "execution_count": 41,
   "id": "6045f0a1",
   "metadata": {
    "execution": {
     "iopub.execute_input": "2024-05-26T11:21:32.582037Z",
     "iopub.status.busy": "2024-05-26T11:21:32.581646Z",
     "iopub.status.idle": "2024-05-26T11:21:32.600724Z",
     "shell.execute_reply": "2024-05-26T11:21:32.599625Z"
    },
    "papermill": {
     "duration": 0.06305,
     "end_time": "2024-05-26T11:21:32.610185",
     "exception": false,
     "start_time": "2024-05-26T11:21:32.547135",
     "status": "completed"
    },
    "tags": []
   },
   "outputs": [
    {
     "data": {
      "text/html": [
       "<div>\n",
       "<style scoped>\n",
       "    .dataframe tbody tr th:only-of-type {\n",
       "        vertical-align: middle;\n",
       "    }\n",
       "\n",
       "    .dataframe tbody tr th {\n",
       "        vertical-align: top;\n",
       "    }\n",
       "\n",
       "    .dataframe thead th {\n",
       "        text-align: right;\n",
       "    }\n",
       "</style>\n",
       "<table border=\"1\" class=\"dataframe\">\n",
       "  <thead>\n",
       "    <tr style=\"text-align: right;\">\n",
       "      <th></th>\n",
       "      <th>pickup_longitude</th>\n",
       "      <th>pickup_latitude</th>\n",
       "      <th>dropoff_longitude</th>\n",
       "      <th>dropoff_latitude</th>\n",
       "      <th>passenger_count</th>\n",
       "      <th>distance</th>\n",
       "      <th>Year</th>\n",
       "      <th>Month</th>\n",
       "      <th>Day</th>\n",
       "      <th>DayOfWeek</th>\n",
       "      <th>Hour</th>\n",
       "    </tr>\n",
       "  </thead>\n",
       "  <tbody>\n",
       "    <tr>\n",
       "      <th>0</th>\n",
       "      <td>-73.973320</td>\n",
       "      <td>40.763805</td>\n",
       "      <td>-73.981430</td>\n",
       "      <td>40.743835</td>\n",
       "      <td>1</td>\n",
       "      <td>2.323260</td>\n",
       "      <td>2015</td>\n",
       "      <td>1</td>\n",
       "      <td>27</td>\n",
       "      <td>1</td>\n",
       "      <td>13</td>\n",
       "    </tr>\n",
       "    <tr>\n",
       "      <th>1</th>\n",
       "      <td>-73.986862</td>\n",
       "      <td>40.719383</td>\n",
       "      <td>-73.998886</td>\n",
       "      <td>40.739201</td>\n",
       "      <td>1</td>\n",
       "      <td>2.425353</td>\n",
       "      <td>2015</td>\n",
       "      <td>1</td>\n",
       "      <td>27</td>\n",
       "      <td>1</td>\n",
       "      <td>13</td>\n",
       "    </tr>\n",
       "    <tr>\n",
       "      <th>2</th>\n",
       "      <td>-73.982524</td>\n",
       "      <td>40.751260</td>\n",
       "      <td>-73.979654</td>\n",
       "      <td>40.746139</td>\n",
       "      <td>1</td>\n",
       "      <td>0.618628</td>\n",
       "      <td>2011</td>\n",
       "      <td>10</td>\n",
       "      <td>8</td>\n",
       "      <td>5</td>\n",
       "      <td>11</td>\n",
       "    </tr>\n",
       "    <tr>\n",
       "      <th>3</th>\n",
       "      <td>-73.981160</td>\n",
       "      <td>40.767807</td>\n",
       "      <td>-73.990448</td>\n",
       "      <td>40.751635</td>\n",
       "      <td>1</td>\n",
       "      <td>1.961033</td>\n",
       "      <td>2012</td>\n",
       "      <td>12</td>\n",
       "      <td>1</td>\n",
       "      <td>5</td>\n",
       "      <td>21</td>\n",
       "    </tr>\n",
       "    <tr>\n",
       "      <th>4</th>\n",
       "      <td>-73.966046</td>\n",
       "      <td>40.789775</td>\n",
       "      <td>-73.988565</td>\n",
       "      <td>40.744427</td>\n",
       "      <td>1</td>\n",
       "      <td>5.387301</td>\n",
       "      <td>2012</td>\n",
       "      <td>12</td>\n",
       "      <td>1</td>\n",
       "      <td>5</td>\n",
       "      <td>21</td>\n",
       "    </tr>\n",
       "  </tbody>\n",
       "</table>\n",
       "</div>"
      ],
      "text/plain": [
       "   pickup_longitude  pickup_latitude  dropoff_longitude  dropoff_latitude  \\\n",
       "0        -73.973320        40.763805         -73.981430         40.743835   \n",
       "1        -73.986862        40.719383         -73.998886         40.739201   \n",
       "2        -73.982524        40.751260         -73.979654         40.746139   \n",
       "3        -73.981160        40.767807         -73.990448         40.751635   \n",
       "4        -73.966046        40.789775         -73.988565         40.744427   \n",
       "\n",
       "   passenger_count  distance  Year  Month  Day  DayOfWeek  Hour  \n",
       "0                1  2.323260  2015      1   27          1    13  \n",
       "1                1  2.425353  2015      1   27          1    13  \n",
       "2                1  0.618628  2011     10    8          5    11  \n",
       "3                1  1.961033  2012     12    1          5    21  \n",
       "4                1  5.387301  2012     12    1          5    21  "
      ]
     },
     "execution_count": 41,
     "metadata": {},
     "output_type": "execute_result"
    }
   ],
   "source": [
    "test_pred = test_data.drop(['key','pickup_datetime'],axis=1)\n",
    "test_pred.head()"
   ]
  },
  {
   "cell_type": "code",
   "execution_count": 42,
   "id": "234694e3",
   "metadata": {
    "execution": {
     "iopub.execute_input": "2024-05-26T11:21:32.682316Z",
     "iopub.status.busy": "2024-05-26T11:21:32.681947Z",
     "iopub.status.idle": "2024-05-26T11:23:05.242470Z",
     "shell.execute_reply": "2024-05-26T11:23:05.241022Z"
    },
    "papermill": {
     "duration": 92.599502,
     "end_time": "2024-05-26T11:23:05.244993",
     "exception": false,
     "start_time": "2024-05-26T11:21:32.645491",
     "status": "completed"
    },
    "tags": []
   },
   "outputs": [
    {
     "name": "stdout",
     "output_type": "stream",
     "text": [
      "[0]\ttrain-rmse:7.37663\ttest-rmse:7.34605\n",
      "[10]\ttrain-rmse:3.85683\ttest-rmse:3.79477\n",
      "[20]\ttrain-rmse:3.73058\ttest-rmse:3.67064\n",
      "[30]\ttrain-rmse:3.66423\ttest-rmse:3.61122\n",
      "[40]\ttrain-rmse:3.62186\ttest-rmse:3.57663\n",
      "[50]\ttrain-rmse:3.58218\ttest-rmse:3.54438\n",
      "[60]\ttrain-rmse:3.54881\ttest-rmse:3.51949\n",
      "[70]\ttrain-rmse:3.52330\ttest-rmse:3.50173\n",
      "[80]\ttrain-rmse:3.50062\ttest-rmse:3.48697\n",
      "[90]\ttrain-rmse:3.48317\ttest-rmse:3.47667\n",
      "[99]\ttrain-rmse:3.46974\ttest-rmse:3.46766\n",
      "Minimum RMSE on training set: 3.4697355165079813\n",
      "Minimum RMSE on test set: 3.4676593159031226\n"
     ]
    }
   ],
   "source": [
    "xgb_params = {'objective': 'reg:squarederror', 'eval_metric': 'rmse'}\n",
    "xgbm = XGBoost(X_train, X_test, y_train, y_test, xgb_params, 100)\n",
    "my_prediction = xgbm.predict(xgb.DMatrix(test_pred))"
   ]
  },
  {
   "cell_type": "code",
   "execution_count": 43,
   "id": "1599499f",
   "metadata": {
    "execution": {
     "iopub.execute_input": "2024-05-26T11:23:05.316527Z",
     "iopub.status.busy": "2024-05-26T11:23:05.315505Z",
     "iopub.status.idle": "2024-05-26T11:23:05.324180Z",
     "shell.execute_reply": "2024-05-26T11:23:05.323149Z"
    },
    "papermill": {
     "duration": 0.046789,
     "end_time": "2024-05-26T11:23:05.326514",
     "exception": false,
     "start_time": "2024-05-26T11:23:05.279725",
     "status": "completed"
    },
    "tags": []
   },
   "outputs": [
    {
     "data": {
      "text/plain": [
       "array([10.33, 11.04,  4.59, ..., 52.47, 19.53,  6.57], dtype=float32)"
      ]
     },
     "execution_count": 43,
     "metadata": {},
     "output_type": "execute_result"
    }
   ],
   "source": [
    "my_prediction = np.round(my_prediction, 2)\n",
    "my_prediction"
   ]
  },
  {
   "cell_type": "code",
   "execution_count": 44,
   "id": "0fcec29c",
   "metadata": {
    "execution": {
     "iopub.execute_input": "2024-05-26T11:23:05.397066Z",
     "iopub.status.busy": "2024-05-26T11:23:05.396683Z",
     "iopub.status.idle": "2024-05-26T11:23:05.430287Z",
     "shell.execute_reply": "2024-05-26T11:23:05.428895Z"
    },
    "papermill": {
     "duration": 0.071784,
     "end_time": "2024-05-26T11:23:05.432707",
     "exception": false,
     "start_time": "2024-05-26T11:23:05.360923",
     "status": "completed"
    },
    "tags": []
   },
   "outputs": [
    {
     "name": "stdout",
     "output_type": "stream",
     "text": [
      "['submission.csv', '__notebook__.ipynb']\n"
     ]
    }
   ],
   "source": [
    "submission = pd.DataFrame({\"key\": test_keys,\"fare_amount\": my_prediction},columns = ['key','fare_amount'])\n",
    "submission.to_csv('submission.csv',index=False)\n",
    "print(os.listdir('.'))"
   ]
  },
  {
   "cell_type": "markdown",
   "id": "8fb8459c",
   "metadata": {
    "papermill": {
     "duration": 0.035662,
     "end_time": "2024-05-26T11:23:05.502733",
     "exception": false,
     "start_time": "2024-05-26T11:23:05.467071",
     "status": "completed"
    },
    "tags": []
   },
   "source": []
  }
 ],
 "metadata": {
  "kaggle": {
   "accelerator": "none",
   "dataSources": [
    {
     "databundleVersionId": 61318,
     "sourceId": 10170,
     "sourceType": "competition"
    }
   ],
   "dockerImageVersionId": 30698,
   "isGpuEnabled": false,
   "isInternetEnabled": false,
   "language": "python",
   "sourceType": "notebook"
  },
  "kernelspec": {
   "display_name": "Python 3",
   "language": "python",
   "name": "python3"
  },
  "language_info": {
   "codemirror_mode": {
    "name": "ipython",
    "version": 3
   },
   "file_extension": ".py",
   "mimetype": "text/x-python",
   "name": "python",
   "nbconvert_exporter": "python",
   "pygments_lexer": "ipython3",
   "version": "3.10.13"
  },
  "papermill": {
   "default_parameters": {},
   "duration": 1427.485239,
   "end_time": "2024-05-26T11:23:07.467094",
   "environment_variables": {},
   "exception": null,
   "input_path": "__notebook__.ipynb",
   "output_path": "__notebook__.ipynb",
   "parameters": {},
   "start_time": "2024-05-26T10:59:19.981855",
   "version": "2.5.0"
  }
 },
 "nbformat": 4,
 "nbformat_minor": 5
}
